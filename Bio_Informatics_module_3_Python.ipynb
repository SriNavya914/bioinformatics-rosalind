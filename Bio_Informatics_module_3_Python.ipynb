{
  "nbformat": 4,
  "nbformat_minor": 0,
  "metadata": {
    "colab": {
      "provenance": [],
      "collapsed_sections": [
        "jYlnA2Z2FhoW",
        "qRj8vCvXG-1k",
        "s7deJQCHHwOa",
        "GtjxkNHWN5Xo",
        "3yswDberkE7N",
        "4IM-9eAGkPdi",
        "nlBbe3qBRH_J",
        "_F9KCUzCd3ID",
        "iHFNxm30lzic",
        "sOgq54Op4MZL",
        "R5_dYi9f6t1z",
        "LdtXZ0LW9ugo",
        "i4Fo-ddSKWwy",
        "iupO8iI-ZYAe",
        "lY924yM0jckW",
        "NvqGEl4JjpiO",
        "DHzE7CI4lWGw",
        "WD5wnvQkmh6E",
        "kApNvgOLn8lp",
        "kq9QbEttnA4h"
      ],
      "include_colab_link": true
    },
    "kernelspec": {
      "name": "python3",
      "display_name": "Python 3"
    },
    "language_info": {
      "name": "python"
    }
  },
  "cells": [
    {
      "cell_type": "markdown",
      "metadata": {
        "id": "view-in-github",
        "colab_type": "text"
      },
      "source": [
        "<a href=\"https://colab.research.google.com/github/SriNavya914/bioinformatics-rosalind/blob/main/Bio_Informatics_module_3_Python.ipynb\" target=\"_parent\"><img src=\"https://colab.research.google.com/assets/colab-badge.svg\" alt=\"Open In Colab\"/></a>"
      ]
    },
    {
      "cell_type": "markdown",
      "source": [
        "# **<font color=blue>P1.** </font>Rename this notebook **Bioinformatics_Module03.ipynb </font><br>**"
      ],
      "metadata": {
        "id": "l3h89jAYBUzz"
      }
    },
    {
      "cell_type": "markdown",
      "source": [
        "# **<font color=blue>P2. </font>**```print()```writes to standard output (i.e. prints output to the screen)"
      ],
      "metadata": {
        "id": "jYlnA2Z2FhoW"
      }
    },
    {
      "cell_type": "markdown",
      "source": [
        "####**TASK P2.1:** Print <font color = magenta>hello world</font>"
      ],
      "metadata": {
        "id": "r118fqQodA9x"
      }
    },
    {
      "cell_type": "code",
      "source": [
        "print(\"hello world\")"
      ],
      "metadata": {
        "id": "kvxK8D5uFx_x"
      },
      "execution_count": null,
      "outputs": []
    },
    {
      "cell_type": "markdown",
      "source": [
        "# **<font color=blue>P3. </font>**```=``` is the ASSIGNMENT operator (assigns values to variables)\n",
        "####**TASK P3.1:** Ask Gemini, \"*Give me 3 examples to help practice understanding the assignment operator.*\""
      ],
      "metadata": {
        "id": "qRj8vCvXG-1k"
      }
    },
    {
      "cell_type": "code",
      "source": [
        "x=5\n",
        "x"
      ],
      "metadata": {
        "id": "VB8HPNe7JpuJ"
      },
      "execution_count": null,
      "outputs": []
    },
    {
      "cell_type": "markdown",
      "source": [
        "# **<font color=blue>P4. </font>** Data types: use ```type()``` to find a variable's \"type\"\n",
        "####**TASK P4.1:** Ask Gemini, \"*Give me examples of each data type to see how they look as outputs.*\""
      ],
      "metadata": {
        "id": "s7deJQCHHwOa"
      }
    },
    {
      "cell_type": "code",
      "source": [
        "type(x))"
      ],
      "metadata": {
        "colab": {
          "base_uri": "https://localhost:8080/"
        },
        "id": "ktR75uWIJ0uc",
        "outputId": "3a13d830-94ae-49a8-8f1f-16d97cd46292"
      },
      "execution_count": null,
      "outputs": [
        {
          "output_type": "execute_result",
          "data": {
            "text/plain": [
              "int"
            ]
          },
          "metadata": {},
          "execution_count": 20
        }
      ]
    },
    {
      "cell_type": "markdown",
      "source": [
        "# **<font color=blue>P5. </font>** Arithmetic and comparison operators\n",
        "####**TASK P5.1:**   Complete Rosalind #1"
      ],
      "metadata": {
        "id": "GtjxkNHWN5Xo"
      }
    },
    {
      "cell_type": "code",
      "source": [
        "a=996\n",
        "b=983\n",
        "y=a*2+b*2\n",
        "print(y)"
      ],
      "metadata": {
        "id": "45s9c4vyQm2U",
        "colab": {
          "base_uri": "https://localhost:8080/"
        },
        "outputId": "2590b891-1d34-42e5-949d-7449a7b4cdc3"
      },
      "execution_count": 1,
      "outputs": [
        {
          "output_type": "stream",
          "name": "stdout",
          "text": [
            "3958\n"
          ]
        }
      ]
    },
    {
      "cell_type": "markdown",
      "source": [
        "# **<font color=blue>P6. </font>** ```input()``` gets input from the user"
      ],
      "metadata": {
        "id": "3yswDberkE7N"
      }
    },
    {
      "cell_type": "markdown",
      "source": [
        "TASK P6.1"
      ],
      "metadata": {
        "id": "z97rSY9gqdad"
      }
    },
    {
      "cell_type": "code",
      "metadata": {
        "colab": {
          "base_uri": "https://localhost:8080/"
        },
        "id": "d91046dd",
        "outputId": "3dada89f-5935-48bd-a873-00edfe466ae1"
      },
      "source": [
        "name = input(\"Enter your name: \")\n",
        "print(\"Hello, \" + name)"
      ],
      "execution_count": 2,
      "outputs": [
        {
          "output_type": "stream",
          "name": "stdout",
          "text": [
            "Enter your name: sri navya deepthi \n",
            "Hello, sri navya deepthi \n"
          ]
        }
      ]
    },
    {
      "cell_type": "markdown",
      "source": [
        "####**TASK P6.1:** Solve Rosalind #1 again, but get user input for the values of a and b rather than modifying the code."
      ],
      "metadata": {
        "id": "e3LaAQeLRmE6"
      }
    },
    {
      "cell_type": "code",
      "source": [
        "a= int(input(\"enter a value for a:\"))\n",
        "b= int(input(\"enter a value for b:\"))\n",
        "c=a**2+b**2\n",
        "print (\"The sq of the hypotenuse is\",c)"
      ],
      "metadata": {
        "id": "wZ0XL0L6Rq2H",
        "colab": {
          "base_uri": "https://localhost:8080/"
        },
        "outputId": "29fd9886-4fb8-4168-b68f-a23da058392f"
      },
      "execution_count": 3,
      "outputs": [
        {
          "output_type": "stream",
          "name": "stdout",
          "text": [
            "enter a value for a:996\n",
            "enter a value for b:983\n",
            "The sq of the hypotenuse is 1958305\n"
          ]
        }
      ]
    },
    {
      "cell_type": "markdown",
      "source": [
        "# **<font color=blue>P7. </font>** ```list``` type variables (create, replace, append)"
      ],
      "metadata": {
        "id": "4IM-9eAGkPdi"
      }
    },
    {
      "cell_type": "markdown",
      "source": [
        "####**TASK P7.1**"
      ],
      "metadata": {
        "id": "DhNGdYK6NEpe"
      }
    },
    {
      "cell_type": "code",
      "source": [
        "# Create a list with 3 elements and then print them\n",
        "\n",
        "my_list = [\"Hello\", \"World\", \"Charles Darwin\"]\n",
        "print (my_list[1])"
      ],
      "metadata": {
        "id": "N3VRRQIEkXuP",
        "colab": {
          "base_uri": "https://localhost:8080/"
        },
        "outputId": "df705b85-b801-4b75-8d9f-6b89075b4a16"
      },
      "execution_count": 4,
      "outputs": [
        {
          "output_type": "stream",
          "name": "stdout",
          "text": [
            "World\n"
          ]
        }
      ]
    },
    {
      "cell_type": "markdown",
      "source": [
        "####**TASK P7.2**"
      ],
      "metadata": {
        "id": "Yn3bAoi8NKy5"
      }
    },
    {
      "cell_type": "code",
      "source": [
        "# Substitute the item at index 2 in the list\n",
        "my_list[2] = \"Alfred R. Wallace\"\n",
        "print (my_list)"
      ],
      "metadata": {
        "id": "WNnsUuduOKbI",
        "colab": {
          "base_uri": "https://localhost:8080/"
        },
        "outputId": "444b76e1-0dfb-455c-e628-2bae180c73ef"
      },
      "execution_count": 5,
      "outputs": [
        {
          "output_type": "stream",
          "name": "stdout",
          "text": [
            "['Hello', 'World', 'Alfred R. Wallace']\n"
          ]
        }
      ]
    },
    {
      "cell_type": "markdown",
      "source": [
        "####**TASK P7.3**"
      ],
      "metadata": {
        "id": "SxiMMNLyPwGV"
      }
    },
    {
      "cell_type": "code",
      "source": [
        "# Append an item to the end of the list\n",
        "my_list.append(\"Charles Darwin\")\n",
        "print (my_list)"
      ],
      "metadata": {
        "id": "3VrLc6CGQTi-",
        "colab": {
          "base_uri": "https://localhost:8080/"
        },
        "outputId": "567a2de0-5890-4c1d-b015-839497ec7646"
      },
      "execution_count": 6,
      "outputs": [
        {
          "output_type": "stream",
          "name": "stdout",
          "text": [
            "['Hello', 'World', 'Alfred R. Wallace', 'Charles Darwin']\n"
          ]
        }
      ]
    },
    {
      "cell_type": "markdown",
      "source": [
        "####**TASK P7.4**. Ask Gemini how to <font color=crimson>```insert```</font> a new item at index 1 in the list"
      ],
      "metadata": {
        "id": "XQKmwgbfQond"
      }
    },
    {
      "cell_type": "code",
      "source": [
        "# On line #2 insert an item at index 1 of my_list\n",
        "\n",
        "print (my_list)"
      ],
      "metadata": {
        "id": "u0maP5CZZN13",
        "colab": {
          "base_uri": "https://localhost:8080/"
        },
        "outputId": "1452e8d0-3760-4236-91de-ba75ceb67f9e"
      },
      "execution_count": 7,
      "outputs": [
        {
          "output_type": "stream",
          "name": "stdout",
          "text": [
            "['Hello', 'World', 'Alfred R. Wallace', 'Charles Darwin']\n"
          ]
        }
      ]
    },
    {
      "cell_type": "markdown",
      "source": [
        "# **<font color=blue>P8. </font>** Slicing lists and strings"
      ],
      "metadata": {
        "id": "nlBbe3qBRH_J"
      }
    },
    {
      "cell_type": "markdown",
      "source": [
        "####**TASK P8.1** Slice and print only the middle two elements from the list created in P7 (i.e. only <font color=magenta>World</font> and <font color=magenta>Alfred R. Wallace</font>).  "
      ],
      "metadata": {
        "id": "M0YW2MP0WtuI"
      }
    },
    {
      "cell_type": "code",
      "source": [
        "print (my_list[2:4])"
      ],
      "metadata": {
        "colab": {
          "base_uri": "https://localhost:8080/"
        },
        "id": "Tp1djNtiaxSb",
        "outputId": "5d80df81-7f7a-441e-81cc-db961ddd835e"
      },
      "execution_count": 8,
      "outputs": [
        {
          "output_type": "stream",
          "name": "stdout",
          "text": [
            "['Alfred R. Wallace', 'Charles Darwin']\n"
          ]
        }
      ]
    },
    {
      "cell_type": "markdown",
      "source": [
        "####**TASK P8.2**: Print <font color=magenta>Wallace World</font> from **my_string** by slicing\n"
      ],
      "metadata": {
        "id": "_F9KCUzCd3ID"
      }
    },
    {
      "cell_type": "code",
      "source": [
        "my_string = \"HelloWorldCharlesDarwinAlfred R. Walace\"\n",
        "print (my_string[0:5],my_string[5:10])\n",
        "\n",
        "# in the print command below input the correct index values to complete Task P8.2\n",
        "print (my_string[ : ],my_string[ : ])"
      ],
      "metadata": {
        "colab": {
          "base_uri": "https://localhost:8080/"
        },
        "id": "AafKngtba8En",
        "outputId": "70673457-76e3-4c0a-b21a-7077d9994429"
      },
      "execution_count": 9,
      "outputs": [
        {
          "output_type": "stream",
          "name": "stdout",
          "text": [
            "Hello World\n",
            "HelloWorldCharlesDarwinAlfred R. Walace HelloWorldCharlesDarwinAlfred R. Walace\n"
          ]
        }
      ]
    },
    {
      "cell_type": "markdown",
      "source": [
        "####**TASK P8.3**  **<font color = orange> Complete Rosalind Problem #2 Strings and Lists</font>**"
      ],
      "metadata": {
        "id": "2TTQVE-Xf8jR"
      }
    },
    {
      "cell_type": "code",
      "source": [
        "\n",
        "# Enter code for Rosalind 2 here:\n",
        "my_string = \"nhZH0qutPpK2PelodiscusIukc8B4S2DzOnolRtGP074XtJxfkr3RwL1Ik7NvWc5oKlG92KefjfjL6A5iPgJjbVTkeRwVFqZL6DFNup9gKPALFsIjeXLFh9hBVnGrkWqXzAAlXzUZNpTvww7XnlZrGwENyasebaeDYJoXhWDnc7w1kRunyM5AhL0egdIoP.\"\n",
        "print (my_string[12 :22],my_string[ 155 :160])"
      ],
      "metadata": {
        "id": "LI88f5RZh4GL",
        "colab": {
          "base_uri": "https://localhost:8080/"
        },
        "outputId": "cf8f73c6-8ce6-4c2b-a769-5faf1846f964"
      },
      "execution_count": 11,
      "outputs": [
        {
          "output_type": "stream",
          "name": "stdout",
          "text": [
            "Pelodiscus sebae\n"
          ]
        }
      ]
    },
    {
      "cell_type": "markdown",
      "source": [
        "####**<font color=crimson>TASK 8.4 Commit to GitHub**</font>*italicized text*"
      ],
      "metadata": {
        "id": "Tw6Pwh6TjwJ9"
      }
    },
    {
      "cell_type": "markdown",
      "source": [
        "# **<font color=blue>P9. </font>** ```if``` and ```else``` - conditional output"
      ],
      "metadata": {
        "id": "iHFNxm30lzic"
      }
    },
    {
      "cell_type": "markdown",
      "source": [
        "####**TASK P9.1** Create some code that subtracts two numbers if they are different or adds them if they are the same."
      ],
      "metadata": {
        "id": "WCXnGdftztbN"
      }
    },
    {
      "cell_type": "code",
      "source": [
        "a=5\n",
        "b=5\n",
        "\n",
        "if a!=b:\n",
        "  print(a-b)\n",
        "\n",
        "else:\n",
        "  print(a+b)"
      ],
      "metadata": {
        "id": "KabZsL5Fy8jJ"
      },
      "execution_count": null,
      "outputs": []
    },
    {
      "cell_type": "markdown",
      "source": [
        "# **<font color=blue>P10.</font>** ```while``` loops"
      ],
      "metadata": {
        "id": "sOgq54Op4MZL"
      }
    },
    {
      "cell_type": "markdown",
      "source": [
        "####**TASK P10.1** Create a while loop that runs 3 times\n"
      ],
      "metadata": {
        "id": "JMqGqhTn4l9s"
      }
    },
    {
      "cell_type": "code",
      "source": [
        "#initiate a counter\n",
        "a = 1\n",
        "\n",
        "#print \"Counting!\" while a<=3\n",
        "while a <= 3:\n",
        "\n",
        "    print (\"Counting!\" * a)\n",
        "    #a += 1"
      ],
      "metadata": {
        "id": "07YbiCGO4O1w"
      },
      "execution_count": null,
      "outputs": []
    },
    {
      "cell_type": "markdown",
      "source": [
        "# **<font color=blue>P11.</font>** ```for``` loops – looping over lists"
      ],
      "metadata": {
        "id": "R5_dYi9f6t1z"
      }
    },
    {
      "cell_type": "markdown",
      "source": [
        "####**TASK P11.1** Create a for loop to print each item in a list\n"
      ],
      "metadata": {
        "id": "x9F7v_V073wO"
      }
    },
    {
      "cell_type": "code",
      "source": [
        "names = [\"Alice\",\"Bob\",\"Charley\"]\n",
        "\n",
        "for name in names:\n",
        "    print (\"Hello\", name)"
      ],
      "metadata": {
        "id": "-aqaQ5hz70yo"
      },
      "execution_count": null,
      "outputs": []
    },
    {
      "cell_type": "markdown",
      "source": [
        "# **<font color=blue>P12.</font>** ```for``` loops over a ```range()```of numbers"
      ],
      "metadata": {
        "id": "LdtXZ0LW9ugo"
      }
    },
    {
      "cell_type": "markdown",
      "source": [
        "####**TASK 12.1** Using for and range(), create code that prints the numbers 0-9"
      ],
      "metadata": {
        "id": "jG6jvXEBDi4H"
      }
    },
    {
      "cell_type": "code",
      "source": [
        "# Create a variable to define the  number of iterations\n",
        "iterations = 10\n",
        "\n",
        "#Print the current item's value each time through the loop\n",
        "for number in range(iterations):\n",
        "    print (number)"
      ],
      "metadata": {
        "colab": {
          "base_uri": "https://localhost:8080/"
        },
        "id": "RFBXqQNu_E6X",
        "outputId": "7178aa1e-f488-48cf-f3d2-77440d65a8b0"
      },
      "execution_count": 13,
      "outputs": [
        {
          "output_type": "stream",
          "name": "stdout",
          "text": [
            "0\n",
            "1\n",
            "2\n",
            "3\n",
            "4\n",
            "5\n",
            "6\n",
            "7\n",
            "8\n",
            "9\n"
          ]
        }
      ]
    },
    {
      "cell_type": "markdown",
      "source": [
        "####**TASK 12.2** Modify the code so that it only prints every 3rd number from 9 through 27 (i.e. including 27)"
      ],
      "metadata": {
        "id": "NRd5srR_G-PQ"
      }
    },
    {
      "cell_type": "code",
      "source": [
        "# Define the range from 9 to 27, stepping by 3\n",
        "for number in range(9, 28, 3):\n",
        "  print(number)"
      ],
      "metadata": {
        "id": "irYTFPO-IRHo",
        "colab": {
          "base_uri": "https://localhost:8080/"
        },
        "outputId": "58c0bdf9-9a57-42fa-9b80-5467edfc7e88"
      },
      "execution_count": 19,
      "outputs": [
        {
          "output_type": "stream",
          "name": "stdout",
          "text": [
            "9\n",
            "12\n",
            "15\n",
            "18\n",
            "21\n",
            "24\n",
            "27\n"
          ]
        }
      ]
    },
    {
      "cell_type": "markdown",
      "source": [
        "####**TASK 12.3** <font color = orange> **Complete Rosalind Problem #3 Conditions and Loops** </font>"
      ],
      "metadata": {
        "id": "83jDEjpMHXUa"
      }
    },
    {
      "cell_type": "code",
      "source": [
        "# Enter code for Rosalind 3 here:\n",
        "a, b = 4278,9184\n",
        "\n",
        "odd_sum = 0\n",
        "\n",
        "for x in range(a, b+1):\n",
        "    if x % 2 == 1:\n",
        "        odd_sum += x\n",
        "\n",
        "print(odd_sum)"
      ],
      "metadata": {
        "id": "EI7hRtakG90R",
        "colab": {
          "base_uri": "https://localhost:8080/"
        },
        "outputId": "92817835-4905-4e2d-f68f-08c6796b3b70"
      },
      "execution_count": 20,
      "outputs": [
        {
          "output_type": "stream",
          "name": "stdout",
          "text": [
            "16511143\n"
          ]
        }
      ]
    },
    {
      "cell_type": "markdown",
      "source": [
        "####**<font color=crimson>TASK 12.4 Commit to GitHub**</font>"
      ],
      "metadata": {
        "id": "3P9DKNbPI1wp"
      }
    },
    {
      "cell_type": "markdown",
      "source": [
        "# **<font color=blue>P13.</font>** File I/O – with open(\"filename\", \"mode\") as filehandle:\n"
      ],
      "metadata": {
        "id": "i4Fo-ddSKWwy"
      }
    },
    {
      "cell_type": "markdown",
      "source": [
        "####**TASK P13.1** Use the ```read()``` function to print the <font color = orange>practice dataset from Rosalind #4</font>\n"
      ],
      "metadata": {
        "id": "sgc3wiQmLXcI"
      }
    },
    {
      "cell_type": "code",
      "source": [
        "with open(\"practice.txt\",\"r\") as data:\n",
        "\n",
        "    print(data.read())\n",
        "\n",
        "    #print(data.readline())\n",
        "\n",
        "    #print(data.readlines())"
      ],
      "metadata": {
        "id": "V5nzHsnULA_n"
      },
      "execution_count": null,
      "outputs": []
    },
    {
      "cell_type": "markdown",
      "source": [
        "####**TASK P13.2** Explore file object functions to read and print practice.txt"
      ],
      "metadata": {
        "id": "GLO6tBYNVzYZ"
      }
    },
    {
      "cell_type": "markdown",
      "source": [
        "#<font color=blue>**P14.**</font> Store the content, close the file, and join ( ) the list"
      ],
      "metadata": {
        "id": "iupO8iI-ZYAe"
      }
    },
    {
      "cell_type": "code",
      "source": [
        "with open(\"practice.txt\",\"r\") as data:\n",
        "\n",
        "  list_of_lines=data.readlines()\n",
        "\n",
        "print (list_of_lines)"
      ],
      "metadata": {
        "id": "8U5w2qOudDyp"
      },
      "execution_count": null,
      "outputs": []
    },
    {
      "cell_type": "markdown",
      "source": [
        "####**TASK P14.1** Read practice.txt into a list of lines. Then, after the file is closed, use the join ( ) function to print the contents so it looks like the original input."
      ],
      "metadata": {
        "id": "5pPhGmQYiiKx"
      }
    },
    {
      "cell_type": "code",
      "source": [
        "print (\"_\".join())"
      ],
      "metadata": {
        "id": "XLvFZ9uSeyYH"
      },
      "execution_count": null,
      "outputs": []
    },
    {
      "cell_type": "markdown",
      "source": [
        "#<font color=blue>**P15.**</font> Combining for loops with file objects"
      ],
      "metadata": {
        "id": "lY924yM0jckW"
      }
    },
    {
      "cell_type": "markdown",
      "source": [
        "####**TASK P15.1** Use a for loop to print each line in practice.txt"
      ],
      "metadata": {
        "id": "NvqGEl4JjpiO"
      }
    },
    {
      "cell_type": "code",
      "source": [
        "with open(\"practice.txt\",\"r\") as data:\n",
        "\n",
        "  for line in data:\n",
        "    print (line)"
      ],
      "metadata": {
        "id": "snY-10pUkMby",
        "colab": {
          "base_uri": "https://localhost:8080/",
          "height": 193
        },
        "outputId": "79775686-517b-412b-b07a-ec0e80e57616"
      },
      "execution_count": 21,
      "outputs": [
        {
          "output_type": "error",
          "ename": "FileNotFoundError",
          "evalue": "[Errno 2] No such file or directory: 'practice.txt'",
          "traceback": [
            "\u001b[0;31m---------------------------------------------------------------------------\u001b[0m",
            "\u001b[0;31mFileNotFoundError\u001b[0m                         Traceback (most recent call last)",
            "\u001b[0;32m/tmp/ipython-input-124078916.py\u001b[0m in \u001b[0;36m<cell line: 0>\u001b[0;34m()\u001b[0m\n\u001b[0;32m----> 1\u001b[0;31m \u001b[0;32mwith\u001b[0m \u001b[0mopen\u001b[0m\u001b[0;34m(\u001b[0m\u001b[0;34m\"practice.txt\"\u001b[0m\u001b[0;34m,\u001b[0m\u001b[0;34m\"r\"\u001b[0m\u001b[0;34m)\u001b[0m \u001b[0;32mas\u001b[0m \u001b[0mdata\u001b[0m\u001b[0;34m:\u001b[0m\u001b[0;34m\u001b[0m\u001b[0;34m\u001b[0m\u001b[0m\n\u001b[0m\u001b[1;32m      2\u001b[0m \u001b[0;34m\u001b[0m\u001b[0m\n\u001b[1;32m      3\u001b[0m   \u001b[0;32mfor\u001b[0m \u001b[0mline\u001b[0m \u001b[0;32min\u001b[0m \u001b[0mdata\u001b[0m\u001b[0;34m:\u001b[0m\u001b[0;34m\u001b[0m\u001b[0;34m\u001b[0m\u001b[0m\n\u001b[1;32m      4\u001b[0m     \u001b[0mprint\u001b[0m \u001b[0;34m(\u001b[0m\u001b[0mline\u001b[0m\u001b[0;34m)\u001b[0m\u001b[0;34m\u001b[0m\u001b[0;34m\u001b[0m\u001b[0m\n",
            "\u001b[0;31mFileNotFoundError\u001b[0m: [Errno 2] No such file or directory: 'practice.txt'"
          ]
        }
      ]
    },
    {
      "cell_type": "markdown",
      "source": [
        "####**TASK P15.2** <font color=orange>**Complete Rosalind Problem #4 Working with Files**</font>\n"
      ],
      "metadata": {
        "id": "DHzE7CI4lWGw"
      }
    },
    {
      "cell_type": "code",
      "source": [
        "# Define input and output file paths\n",
        "input_file = \"rosalind.txt\"\n",
        "output_file = \"rosalind1.txt\"\n",
        "\n",
        "# Read lines from the input file\n",
        "with open(input_file, \"r\") as f:\n",
        "    lines = f.readlines()\n",
        "\n",
        "# Select even-numbered lines (1-based indexing)\n",
        "even_lines = [line for i, line in enumerate(lines, start=1) if i % 2 == 0]\n",
        "\n",
        "# Write the even-numbered lines to the output file\n",
        "with open(output_file, \"w\") as f:\n",
        "    f.writelines(even_lines)\n",
        "\n",
        "# Also display the even-numbered lines\n",
        "for line in even_lines:\n",
        "    print(line.strip())"
      ],
      "metadata": {
        "id": "8QR9dRFtltBN",
        "colab": {
          "base_uri": "https://localhost:8080/"
        },
        "outputId": "7a38de1b-9e6c-422e-90ac-b57e85a9081b"
      },
      "execution_count": 22,
      "outputs": [
        {
          "output_type": "stream",
          "name": "stdout",
          "text": [
            "Some things in life are bad, they can really make you mad\n",
            "Other things just make you swear and curse\n",
            "When you're chewing on life's gristle, don't grumble give a whistle\n",
            "This will help things turn out for the best\n",
            "Always look on the bright side of life\n",
            "Always look on the right side of life\n",
            "If life seems jolly rotten, there's something you've forgotten\n",
            "And that's to laugh and smile and dance and sing\n",
            "When you're feeling in the dumps, don't be silly, chumps\n",
            "Just purse your lips and whistle, that's the thing\n",
            "So, always look on the bright side of death\n",
            "Just before you draw your terminal breath\n",
            "Life's a counterfeit and when you look at it\n",
            "Life's a laugh and death's the joke, it's true\n",
            "You see, it's all a show, keep them laughing as you go\n",
            "Just remember the last laugh is on you\n",
            "Always look on the bright side of life\n",
            "And always look on the right side of life\n",
            "Always look on the bright side of life\n",
            "And always look on the right side of life\n"
          ]
        }
      ]
    },
    {
      "cell_type": "markdown",
      "source": [
        "####**<font color=crimson>TASK 15.4 Commit to GitHub**</font>"
      ],
      "metadata": {
        "id": "GJ_acW4WlwDn"
      }
    },
    {
      "cell_type": "markdown",
      "source": [
        "#<font color=blue>**P16.**</font> ```for word in line.split()``` – looping over strings and splitting by any delimiter"
      ],
      "metadata": {
        "id": "WD5wnvQkmh6E"
      }
    },
    {
      "cell_type": "markdown",
      "source": [
        "####**TASK P16.1** Print each word in the ROSALIND Problem #5 Sample Dataset on a separate line.\n"
      ],
      "metadata": {
        "id": "kApNvgOLn8lp"
      }
    },
    {
      "cell_type": "code",
      "source": [
        "with open(\"practice_5.txt\",\"r\") as data:\n",
        "\n",
        "  line=data.read()\n",
        "\n",
        "for word in line.split():\n",
        "    print (word)"
      ],
      "metadata": {
        "colab": {
          "base_uri": "https://localhost:8080/"
        },
        "id": "PBjyhwclpKoM",
        "outputId": "afb464a8-3407-43ec-e091-5e57dd22b646"
      },
      "execution_count": null,
      "outputs": [
        {
          "output_type": "stream",
          "name": "stdout",
          "text": [
            "We\n",
            "tried\n",
            "list\n",
            "and\n",
            "we\n",
            "tried\n",
            "dicts\n",
            "also\n",
            "we\n",
            "tried\n",
            "Zen\n"
          ]
        }
      ]
    },
    {
      "cell_type": "markdown",
      "source": [
        "#<font color=blue>**P17.**</font> Python Dictionaries { }"
      ],
      "metadata": {
        "id": "kq9QbEttnA4h"
      }
    },
    {
      "cell_type": "markdown",
      "source": [
        "####**TASK 17.1** Create and print your first dictionary"
      ],
      "metadata": {
        "id": "lVudFQkZqJgh"
      }
    },
    {
      "cell_type": "code",
      "source": [
        "sequences = {\n",
        "    \"H.neandertalensis\":\"ACGTCGCTCTGCTA\",\n",
        "    \"H.sapiens\":\"ACGTCACTCTGCTA\"\n",
        "    }\n",
        "\n",
        "print (sequences)"
      ],
      "metadata": {
        "colab": {
          "base_uri": "https://localhost:8080/"
        },
        "id": "IzKFWDlgq6zo",
        "outputId": "1a4d0584-afcb-46ea-fac1-265bbc7bcd89"
      },
      "execution_count": null,
      "outputs": [
        {
          "output_type": "stream",
          "name": "stdout",
          "text": [
            "{'H.neandertalensis': 'ACGTCGCTCTGCTA', 'H.sapiens': 'ACGTCACTCTGCTA'}\n",
            "ACGTCACTCTGCTA\n",
            ">H.neandertalensis\n",
            "ACGTCGCTCTGCTA\n",
            ">H.sapiens\n",
            "ACGTCACTCTGCTA\n",
            ">P.troglodytes\n",
            "ACGTCACTCTCCTA\n",
            ">G.gorilla\n",
            "ACGTCCTCCTA\n",
            ">H.erectus\n",
            "ACGTCACTCTGCTA\n"
          ]
        },
        {
          "output_type": "execute_result",
          "data": {
            "text/plain": [
              "{'H.neandertalensis': 'ACGTCGCTCTGCTA',\n",
              " 'H.sapiens': 'ACGTCACTCTGCTA',\n",
              " 'P.troglodytes': 'ACGTCACTCTCCTA',\n",
              " 'G.gorilla': 'ACGTCCTCCTA',\n",
              " 'H.erectus': 'ACGTCACTCTGCTA'}"
            ]
          },
          "metadata": {},
          "execution_count": 60
        }
      ]
    },
    {
      "cell_type": "markdown",
      "source": [
        "#<font color=blue>**P18.**</font> Manipulating and printing dictionaries"
      ],
      "metadata": {
        "id": "OvqoT6UwnK0g"
      }
    },
    {
      "cell_type": "markdown",
      "source": [
        "####**TASK 18.1** Modify line 8 to create a fasta file of the hominid sequences"
      ],
      "metadata": {
        "id": "5Be2tcQRrjso"
      }
    },
    {
      "cell_type": "code",
      "source": [
        "sequences[\"P.troglodytes\"]=\"ACGTCACTCTCCTA\"\n",
        "\n",
        "sequences.update({\"G.gorilla\":\"ACGTCCTCCTA\", \"H.erectus\":\"ACGTCACTCTGCTA\"})\n",
        "\n",
        "print (sequences[\"H.sapiens\"])\n",
        "\n",
        "for key,value in sequences.items():\n",
        "     print (key,value)"
      ],
      "metadata": {
        "colab": {
          "base_uri": "https://localhost:8080/",
          "height": 211
        },
        "id": "b-2XDof4rtP8",
        "outputId": "5feed2f3-6175-4128-9bac-8851008d5bdc"
      },
      "execution_count": 23,
      "outputs": [
        {
          "output_type": "error",
          "ename": "NameError",
          "evalue": "name 'sequences' is not defined",
          "traceback": [
            "\u001b[0;31m---------------------------------------------------------------------------\u001b[0m",
            "\u001b[0;31mNameError\u001b[0m                                 Traceback (most recent call last)",
            "\u001b[0;32m/tmp/ipython-input-537507855.py\u001b[0m in \u001b[0;36m<cell line: 0>\u001b[0;34m()\u001b[0m\n\u001b[0;32m----> 1\u001b[0;31m \u001b[0msequences\u001b[0m\u001b[0;34m[\u001b[0m\u001b[0;34m\"P.troglodytes\"\u001b[0m\u001b[0;34m]\u001b[0m\u001b[0;34m=\u001b[0m\u001b[0;34m\"ACGTCACTCTCCTA\"\u001b[0m\u001b[0;34m\u001b[0m\u001b[0;34m\u001b[0m\u001b[0m\n\u001b[0m\u001b[1;32m      2\u001b[0m \u001b[0;34m\u001b[0m\u001b[0m\n\u001b[1;32m      3\u001b[0m \u001b[0msequences\u001b[0m\u001b[0;34m.\u001b[0m\u001b[0mupdate\u001b[0m\u001b[0;34m(\u001b[0m\u001b[0;34m{\u001b[0m\u001b[0;34m\"G.gorilla\"\u001b[0m\u001b[0;34m:\u001b[0m\u001b[0;34m\"ACGTCCTCCTA\"\u001b[0m\u001b[0;34m,\u001b[0m \u001b[0;34m\"H.erectus\"\u001b[0m\u001b[0;34m:\u001b[0m\u001b[0;34m\"ACGTCACTCTGCTA\"\u001b[0m\u001b[0;34m}\u001b[0m\u001b[0;34m)\u001b[0m\u001b[0;34m\u001b[0m\u001b[0;34m\u001b[0m\u001b[0m\n\u001b[1;32m      4\u001b[0m \u001b[0;34m\u001b[0m\u001b[0m\n\u001b[1;32m      5\u001b[0m \u001b[0mprint\u001b[0m \u001b[0;34m(\u001b[0m\u001b[0msequences\u001b[0m\u001b[0;34m[\u001b[0m\u001b[0;34m\"H.sapiens\"\u001b[0m\u001b[0;34m]\u001b[0m\u001b[0;34m)\u001b[0m\u001b[0;34m\u001b[0m\u001b[0;34m\u001b[0m\u001b[0m\n",
            "\u001b[0;31mNameError\u001b[0m: name 'sequences' is not defined"
          ]
        }
      ]
    },
    {
      "cell_type": "markdown",
      "source": [
        "####**TASK P18.2** <font color= orange>**Complete Rosalind Problem #5  Dictionaries**</font>"
      ],
      "metadata": {
        "id": "Y98OZYUNvmWD"
      }
    },
    {
      "cell_type": "code",
      "source": [
        "# Given string\n",
        "s = \"When I find myself in times of trouble Mother Mary comes to me Speaking words of wisdom let it be And in my hour of darkness she is standing right in front of me Speaking words of wisdom let it be Let it be let it be let it be let it be Whisper words of wisdom let it be And when the broken hearted people living in the world agree There will be an answer let it be For though they may be parted there is still a chance that they will see There will be an answer let it be Let it be let it be let it be let it be There will be an answer let it be Let it be let it be let it be let it be Whisper words of wisdom let it be Let it be let it be let it be let it be Whisper words of wisdom let it be And when the night is cloudy there is still a light that shines on me Shine until tomorrow let it be I wake up to the sound of music Mother Mary comes to me Speaking words of wisdom let it be Let it be let it be let it be yeah let it be There will be an answer let it be Let it be let it be let it be yeah let it be Whisper words of wisdom let it be\"\n",
        "# Split the string into words\n",
        "words = s.split()\n",
        "\n",
        "# Initialize an empty dictionary\n",
        "word_counts = {}\n",
        "\n",
        "# Count occurrences of each word\n",
        "for word in words:\n",
        "    if word in word_counts:\n",
        "        word_counts[word] += 1\n",
        "    else:\n",
        "        word_counts[word] = 1\n",
        "\n",
        "# Print the word counts\n",
        "for word, count in word_counts.items():\n",
        "    print(word, count)"
      ],
      "metadata": {
        "id": "lD3KoTY9wWa7",
        "colab": {
          "base_uri": "https://localhost:8080/"
        },
        "outputId": "7355a321-f1b7-499b-b119-1b60fc0eb3d8"
      },
      "execution_count": 24,
      "outputs": [
        {
          "output_type": "stream",
          "name": "stdout",
          "text": [
            "When 1\n",
            "I 2\n",
            "find 1\n",
            "myself 1\n",
            "in 4\n",
            "times 1\n",
            "of 11\n",
            "trouble 1\n",
            "Mother 2\n",
            "Mary 2\n",
            "comes 2\n",
            "to 3\n",
            "me 4\n",
            "Speaking 3\n",
            "words 7\n",
            "wisdom 7\n",
            "let 30\n",
            "it 36\n",
            "be 41\n",
            "And 3\n",
            "my 1\n",
            "hour 1\n",
            "darkness 1\n",
            "she 1\n",
            "is 4\n",
            "standing 1\n",
            "right 1\n",
            "front 1\n",
            "Let 6\n",
            "Whisper 4\n",
            "when 2\n",
            "the 4\n",
            "broken 1\n",
            "hearted 1\n",
            "people 1\n",
            "living 1\n",
            "world 1\n",
            "agree 1\n",
            "There 4\n",
            "will 5\n",
            "an 4\n",
            "answer 4\n",
            "For 1\n",
            "though 1\n",
            "they 2\n",
            "may 1\n",
            "parted 1\n",
            "there 2\n",
            "still 2\n",
            "a 2\n",
            "chance 1\n",
            "that 2\n",
            "see 1\n",
            "night 1\n",
            "cloudy 1\n",
            "light 1\n",
            "shines 1\n",
            "on 1\n",
            "Shine 1\n",
            "until 1\n",
            "tomorrow 1\n",
            "wake 1\n",
            "up 1\n",
            "sound 1\n",
            "music 1\n",
            "yeah 2\n"
          ]
        }
      ]
    },
    {
      "cell_type": "markdown",
      "source": [
        "####**<font color=crimson>TASK 18.3 Commit to GitHub**</font>"
      ],
      "metadata": {
        "id": "1dJdfy4bwVO4"
      }
    },
    {
      "cell_type": "markdown",
      "source": [
        "#<font color=blue>**P19.**</font> ```count()``` – counting things made easy"
      ],
      "metadata": {
        "id": "28ygQlYJnZoA"
      }
    },
    {
      "cell_type": "markdown",
      "source": [
        "####**TASK P19.1** <font color= orange>**Complete Rosalind Problem #6  Counting DNA Nucleotides**</font>"
      ],
      "metadata": {
        "id": "CZ9tBWDmw4D-"
      }
    },
    {
      "cell_type": "code",
      "source": [
        "# Define input DNA string\n",
        "dna = \"GCGTATCGGCTCGAGAGCCGGCGCGGTCGCTGTGTAATCCTACAGTGCGAATTTGATGCTCTTCCTTGGCCGGATCCGATGTACTTCGGGACGTGTACAAGACAGTTTCGAAAGCGAATGCCCGCCGCGAATTCCGAAACGGAGTCTTTGTCGCCCCGACAATGCTCCCGGTCCGTCGCTATGAAGTCAAATAACTGAGTGAATCAGGTGTGCTTGCGCAGTGTGCTGGCTTGCTATAACCGAAACACTAAACTAGTTCCTATATCTAGTAGGCTTCTGTGGCAGAAATAGAGCAGCGCTGTACTTTGCGCTAATCTGTAGGGGGCTAAGCGACTGAGTAATATATAGACCAGAATCTCATGCAGACGCAAAGTGAAAGGCTCTTCCTCCTCGCCGAAAGCTACAACCACTCGCTTGGTCATGTGAGATTTGCGGCCATGTAACTGCTTCGCGTCTGTAACCCTACGTAGATGATGCGGTCCCCTTATGTCCTAACGAGGGTGGCACCACGGACCTTATGTCGTGATCAAACAGAACCATGGTTACGTAAGGTAGCACTTACGTTAACAAAAACGAGATAGAGGTTCCTAGAAGGGCCTATTTGTGACGAAACCGCGAGGTAGCCAGTGCAAGCCGGGATAGCTCCTGTACATGAAATAGCAATGTTTAATTGCCCGCAAACCACCGAGGCCCAGTGCATACCCCAAAGCTCCGACGGTAGTACAGCTGTATTCTTTGATCATTGCAATGAAGAGCTGGGGCTACCGTCGTACTTTGTTTCGGCCAAAGGGAAACCCATTTAGTACTCACAGATGCCATTCGGGGGGCAGTGGACCATCTCGAAGCAATTCCACCCTGCACCCTGGCGGTACTTCCGAGCACTTTTGCCTCTGCGGATATACAGCTGATTAGATCACGGGCGGCCGCCCTGAGGACTGGACCT\"\n",
        "\n",
        "# Count occurrences of each nucleotide\n",
        "a_count = dna.count('A')\n",
        "c_count = dna.count('C')\n",
        "g_count = dna.count('G')\n",
        "t_count = dna.count('T')\n",
        "\n",
        "# Print results as space-separated integers\n",
        "print(a_count, c_count, g_count, t_count)"
      ],
      "metadata": {
        "id": "GlwS14zGxBIC",
        "colab": {
          "base_uri": "https://localhost:8080/"
        },
        "outputId": "ded29d7a-7b8f-4b36-8f31-194191f93d52"
      },
      "execution_count": 25,
      "outputs": [
        {
          "output_type": "stream",
          "name": "stdout",
          "text": [
            "232 243 245 223\n"
          ]
        }
      ]
    },
    {
      "cell_type": "markdown",
      "source": [
        "####**TASK P19.2** Modify your code for the Rosalind #5 Dictionary problem so that it uses count( ) to count the words."
      ],
      "metadata": {
        "id": "rj-OWB6Jym5y"
      }
    },
    {
      "cell_type": "code",
      "source": [
        "# Given string\n",
        "s = \"When I find myself in times of trouble Mother Mary comes to me Speaking words of wisdom let it be And in my hour of darkness she is standing right in front of me Speaking words of wisdom let it be Let it be let it be let it be let it be Whisper words of wisdom let it be And when the broken hearted people living in the world agree There will be an answer let it be For though they may be parted there is still a chance that they will see There will be an answer let it be Let it be let it be let it be let it be There will be an answer let it be Let it be let it be let it be let it be Whisper words of wisdom let it be Let it be let it be let it be let it be Whisper words of wisdom let it be And when the night is cloudy there is still a light that shines on me Shine until tomorrow let it be I wake up to the sound of music Mother Mary comes to me Speaking words of wisdom let it be Let it be let it be let it be yeah let it be There will be an answer let it be Let it be let it be let it be yeah let it be Whisper words of wisdom let it be\"\n",
        "\n",
        "# Split the string into words\n",
        "words = s.split()\n",
        "\n",
        "# Count occurrences using count()\n",
        "unique_words = set(words)\n",
        "for word in unique_words:\n",
        "    print(word, words.count(word))"
      ],
      "metadata": {
        "id": "9H_S6jLnzfxR",
        "colab": {
          "base_uri": "https://localhost:8080/"
        },
        "outputId": "9a9b8886-6276-416f-c71b-9689b8563d4f"
      },
      "execution_count": 26,
      "outputs": [
        {
          "output_type": "stream",
          "name": "stdout",
          "text": [
            "wake 1\n",
            "And 3\n",
            "when 2\n",
            "cloudy 1\n",
            "hearted 1\n",
            "they 2\n",
            "Shine 1\n",
            "standing 1\n",
            "Speaking 3\n",
            "she 1\n",
            "There 4\n",
            "words 7\n",
            "will 5\n",
            "on 1\n",
            "yeah 2\n",
            "of 11\n",
            "Mother 2\n",
            "For 1\n",
            "let 30\n",
            "an 4\n",
            "to 3\n",
            "though 1\n",
            "that 2\n",
            "wisdom 7\n",
            "Whisper 4\n",
            "When 1\n",
            "it 36\n",
            "shines 1\n",
            "living 1\n",
            "may 1\n",
            "is 4\n",
            "music 1\n",
            "be 41\n",
            "right 1\n",
            "comes 2\n",
            "until 1\n",
            "Let 6\n",
            "in 4\n",
            "I 2\n",
            "agree 1\n",
            "find 1\n",
            "people 1\n",
            "the 4\n",
            "see 1\n",
            "light 1\n",
            "up 1\n",
            "sound 1\n",
            "trouble 1\n",
            "parted 1\n",
            "myself 1\n",
            "world 1\n",
            "Mary 2\n",
            "hour 1\n",
            "broken 1\n",
            "there 2\n",
            "answer 4\n",
            "a 2\n",
            "still 2\n",
            "chance 1\n",
            "times 1\n",
            "front 1\n",
            "night 1\n",
            "me 4\n",
            "darkness 1\n",
            "my 1\n",
            "tomorrow 1\n"
          ]
        }
      ]
    },
    {
      "cell_type": "markdown",
      "source": [
        "####**<font color=crimson>TASK 19.3 Commit to GitHub**</font>\n"
      ],
      "metadata": {
        "id": "RzMon_wAzg7D"
      }
    },
    {
      "cell_type": "markdown",
      "source": [
        "#<font color=blue>**P20.**</font> Installing biopython"
      ],
      "metadata": {
        "id": "-IB0c2gG0Z1O"
      }
    },
    {
      "cell_type": "code",
      "source": [
        "!pip install biopython"
      ],
      "metadata": {
        "colab": {
          "base_uri": "https://localhost:8080/"
        },
        "id": "pinPQdEn0mJM",
        "outputId": "8d4c45fa-a25b-4d9d-d226-e15ed1a45eb4"
      },
      "execution_count": 27,
      "outputs": [
        {
          "output_type": "stream",
          "name": "stdout",
          "text": [
            "Collecting biopython\n",
            "  Downloading biopython-1.85-cp312-cp312-manylinux_2_17_x86_64.manylinux2014_x86_64.whl.metadata (13 kB)\n",
            "Requirement already satisfied: numpy in /usr/local/lib/python3.12/dist-packages (from biopython) (2.0.2)\n",
            "Downloading biopython-1.85-cp312-cp312-manylinux_2_17_x86_64.manylinux2014_x86_64.whl (3.3 MB)\n",
            "\u001b[2K   \u001b[90m━━━━━━━━━━━━━━━━━━━━━━━━━━━━━━━━━━━━━━━━\u001b[0m \u001b[32m3.3/3.3 MB\u001b[0m \u001b[31m28.6 MB/s\u001b[0m eta \u001b[36m0:00:00\u001b[0m\n",
            "\u001b[?25hInstalling collected packages: biopython\n",
            "Successfully installed biopython-1.85\n"
          ]
        }
      ]
    },
    {
      "cell_type": "code",
      "metadata": {
        "colab": {
          "base_uri": "https://localhost:8080/"
        },
        "id": "5ccd6f0b",
        "outputId": "2efe2ae1-b32f-43e2-fc08-0888c7195478"
      },
      "source": [
        "try:\n",
        "  from Bio.Seq import Seq\n",
        "  print(\"Biopython is installed correctly.\")\n",
        "except ImportError:\n",
        "  print(\"Biopython is not installed or there was an import error.\")"
      ],
      "execution_count": 28,
      "outputs": [
        {
          "output_type": "stream",
          "name": "stdout",
          "text": [
            "Biopython is installed correctly.\n"
          ]
        }
      ]
    },
    {
      "cell_type": "markdown",
      "source": [
        "#<font color=blue>**P21.**</font> Seq( ) – a function to define sequence objects"
      ],
      "metadata": {
        "id": "IGX-ThdQ3RuA"
      }
    },
    {
      "cell_type": "code",
      "source": [
        "from Bio.Seq import Seq\n",
        "\n",
        "my_sequence = Seq(\"GATGGAACTTGACTACGTAAATT\")"
      ],
      "metadata": {
        "id": "ltZBr8mE4OhM"
      },
      "execution_count": 29,
      "outputs": []
    },
    {
      "cell_type": "markdown",
      "source": [
        "####**TASK BP21.2** <font color=orange> **Complete Rosalind #7 Transcribing DNA into RNA**</font>"
      ],
      "metadata": {
        "id": "UXCuEFxg6Jxx"
      }
    },
    {
      "cell_type": "code",
      "source": [
        "# RNA Codon Table\n",
        "codon_table = {\n",
        "    'UUU':'F', 'UUC':'F', 'UUA':'L', 'UUG':'L',\n",
        "    'UCU':'S', 'UCC':'S', 'UCA':'S', 'UCG':'S',\n",
        "    'UAU':'Y', 'UAC':'Y', 'UAA':'Stop', 'UAG':'Stop',\n",
        "    'UGU':'C', 'UGC':'C', 'UGA':'Stop', 'UGG':'W',\n",
        "    'CUU':'L', 'CUC':'L', 'CUA':'L', 'CUG':'L',\n",
        "    'CCU':'P', 'CCC':'P', 'CCA':'P', 'CCG':'P',\n",
        "    'CAU':'H', 'CAC':'H', 'CAA':'Q', 'CAG':'Q',\n",
        "    'CGU':'R', 'CGC':'R', 'CGA':'R', 'CGG':'R',\n",
        "    'AUU':'I', 'AUC':'I', 'AUA':'I', 'AUG':'M',\n",
        "    'ACU':'T', 'ACC':'T', 'ACA':'T', 'ACG':'T',\n",
        "    'AAU':'N', 'AAC':'N', 'AAA':'K', 'AAG':'K',\n",
        "    'AGU':'S', 'AGC':'S', 'AGA':'R', 'AGG':'R',\n",
        "    'GUU':'V', 'GUC':'V', 'GUA':'V', 'GUG':'V',\n",
        "    'GCU':'A', 'GCC':'A', 'GCA':'A', 'GCG':'A',\n",
        "    'GAU':'D', 'GAC':'D', 'GAA':'E', 'GAG':'E',\n",
        "    'GGU':'G', 'GGC':'G', 'GGA':'G', 'GGG':'G'\n",
        "}\n",
        "\n",
        "def translate_rna(rna):\n",
        "    protein = \"\"\n",
        "    # Process codons in chunks of 3\n",
        "    for i in range(0, len(rna), 3):\n",
        "        codon = rna[i:i+3]\n",
        "        if len(codon) == 3:  # only full codons\n",
        "            amino_acid = codon_table.get(codon, '')\n",
        "            if amino_acid == \"Stop\":\n",
        "                break\n",
        "            protein += amino_acid\n",
        "    return protein\n",
        "\n",
        "# Example usage (sample dataset)\n",
        "rna = \"CGAAACTTGGCCGCAGCCGATTGTCGTAACCGACTGTTTCCAACCCTCATGACTTCATCTAACCGGACGTGGATATTCCTGGGAGCTACAATCCGTACGCCGAAGACTGCACGTATAACGCACACTAAGGATAGAGGTGGTGACGTTAGCCCCCTGAAGGCGAGTCAATTAAGGACTAGTTAGCCAGTCAACCGCAACAAGTGGTATTCCTTGGCCTGTAAACTCTTAGAGTACAACGGTCCAGGAACGCTCCAACAGGCATTCGTATTAATACTATTTGGCTTGGGTTTCCCCCCATTGAGCCCAGTATACGGGGGAGACGCATACCGTGTCAATGAGGAACTTTTATTGCGATTGGCTAGAGGCGAGTCTCGGATCTTCAAATCTCACTACTCGTCTGGGGTATCTTTATACCTACACCATTCGGTCGCGCGCTAGCCCTCGTTTGTAGGTTTTATTCTTAACGCCTCAACCGAACGAAATTCTCGCGTTGCCTATTTCTGGTAACGAGATCATCCATAATGGACATTAACTTTGGGTTATGAGATGGGGCCTCATCCGTCATATTTCTGCATTACATGCGTTTCGCCACGATAAGTGAACGATCCTAGTGAGGAATAGGCGTACGATCCGGTCGCCCGTATCGCGTATTACGGCTGGCTACCAAGTGGGCGTCTGCTACCCGAACAACGTCGAGCCACTGACTATACGCTTGACGAATAAGTAGCCGTGATCCTTCCTCACTGATCTTGGTCCAACCCGATTCAGGTAATGACGTATGCGCTCCGTTAGCACTCTTATACTGAATAAGTCCTATCTTGTTCTGTGCCGGTATAACAACGCCAAGATACCCCCCTCTGGTTTCTCTAATCGATAGTTATCCCTTGGACACCTCCTCTAATTGCCCGGTTTCGAGAAGGAATGCTTGTTGTGAGTTCGCA\"\n",
        "print(translate_rna(rna))"
      ],
      "metadata": {
        "id": "UXt6gWLM6qde",
        "colab": {
          "base_uri": "https://localhost:8080/"
        },
        "outputId": "ad828127-cfef-489d-8af0-66424bf98829"
      },
      "execution_count": 31,
      "outputs": [
        {
          "output_type": "stream",
          "name": "stdout",
          "text": [
            "RNAAANRPTNRTGTTPKATHKRDSPKAQRPNRNKAKENPGTQQAGPPSPGGDAEERRGERKHGHARPNATERRARPTEGPTPRNEEAPAAGPGPEQRADTDEAHNPQTAHEPQRQTPTARREG\n"
          ]
        }
      ]
    },
    {
      "cell_type": "markdown",
      "source": [
        "####**TASK BP21.2** <font color=orange> **Complete Rosalind #8  Translating RNA into Protein**</font>"
      ],
      "metadata": {
        "id": "9P4_MaXp6O3n"
      }
    },
    {
      "cell_type": "code",
      "source": [
        "# RNA Codon Table\n",
        "codon_table = {\n",
        "    'UUU':'F', 'UUC':'F', 'UUA':'L', 'UUG':'L',\n",
        "    'UCU':'S', 'UCC':'S', 'UCA':'S', 'UCG':'S',\n",
        "    'UAU':'Y', 'UAC':'Y', 'UAA':'Stop', 'UAG':'Stop',\n",
        "    'UGU':'C', 'UGC':'C', 'UGA':'Stop', 'UGG':'W',\n",
        "    'CUU':'L', 'CUC':'L', 'CUA':'L', 'CUG':'L',\n",
        "    'CCU':'P', 'CCC':'P', 'CCA':'P', 'CCG':'P',\n",
        "    'CAU':'H', 'CAC':'H', 'CAA':'Q', 'CAG':'Q',\n",
        "    'CGU':'R', 'CGC':'R', 'CGA':'R', 'CGG':'R',\n",
        "    'AUU':'I', 'AUC':'I', 'AUA':'I', 'AUG':'M',\n",
        "    'ACU':'T', 'ACC':'T', 'ACA':'T', 'ACG':'T',\n",
        "    'AAU':'N', 'AAC':'N', 'AAA':'K', 'AAG':'K',\n",
        "    'AGU':'S', 'AGC':'S', 'AGA':'R', 'AGG':'R',\n",
        "    'GUU':'V', 'GUC':'V', 'GUA':'V', 'GUG':'V',\n",
        "    'GCU':'A', 'GCC':'A', 'GCA':'A', 'GCG':'A',\n",
        "    'GAU':'D', 'GAC':'D', 'GAA':'E', 'GAG':'E',\n",
        "    'GGU':'G', 'GGC':'G', 'GGA':'G', 'GGG':'G'\n",
        "}\n",
        "\n",
        "def translate_rna(rna):\n",
        "    protein = \"\"\n",
        "    # Process codons in chunks of 3\n",
        "    for i in range(0, len(rna), 3):\n",
        "        codon = rna[i:i+3]\n",
        "        if len(codon) == 3:  # only full codons\n",
        "            amino_acid = codon_table.get(codon, '')\n",
        "            if amino_acid == \"Stop\":\n",
        "                break\n",
        "            protein += amino_acid\n",
        "    return protein\n",
        "\n",
        "# Example usage (sample dataset)\n",
        "rna = \"AUGUUGUCACGACCAGUCAGUGAGGGUACGCCUUUGUCCUCGGAGGAUCCAACUUCGAGUGCCGUGUUCACUCUCACAAGCGCCAAGUGCUCCAACUCAAGUCGGAUAAACCACCUAGUAAAGGACGACAGAGUCCCAAGCACGGAUUGUUCAGAUUUAGGAAACACUCUCGUGGGGCGUCUCAAAUACCGCAGAGGGUAUCGCAACAACAAUUUUUGUUCGGACCCUACCGGUAGUGGCUCCUGGUCAGUCGUCGACGUAUGUCGCGCACGGACUCCUGUACCAAUAGGCGGCUCCGGGGAAAGAAUAAGACCUGGCAGAUGUUCGUAUUGGGAACUCGACGCGGAAUUGAAGUACUGCGGGAACCUUACUAACGAACAUAUAACAGCCGGCCGAGGCAAUAGUGGGCGAGACGGUCGACGGGGUCGAAUUCCGCGGGCUGGAGGGGCUGUGUCACCGCGGAACCAGGUCAGGGCCCUGAGCAAUAAUACCCCGGGCAUUGGGGCAAAUCCGACUAGGCACGGUGAGCAAGAUCACAUUCCUAAUGGGGAACGUCUUAUCUCUGAGAAAAGACCACACCCGAACCCUCCAUCUCACGGCAUUCUGUGUGGGCAUAAUCCCUCACAACAGAGAUCCUCAGCAUUAAAAGUUUUGCCUGGGUGUUAUCCUGCUCGUAGAUUGGUUUUACCCGCUAAUCGAUGGGUGGGGUCGCCCCAUGUCAACGAUUUCUAUACAGGCACCGCCAAUAGGCUUAAGGAUAAACAGCAGAACUCGAGCCAGAAAGCACGUUGCUUUUGGUUUCCGACCUUCUUUAACGCUUGGCCUAGAAAGAAUAUAGCGUAUAGCCGCGACAGGGUAAGUCGUAUCAACCAAUACUUUGCGAACUCGGGUGUCGCUGCUUAUUGGCGUAGCGCAACCGUCAUCUUUCUACCGCGGGAUUUUGCGCGGAGGGAGUUCGUUACGACAUACCCAAAGGCGAGUAACGACGGAGCGAACCUAGAAGCGAAAGAUUCGGUCCUAGGAUGCACAAACCCGAAGUUGUCACACCUUAAGCAGCGGGGGCUAGCUCUCAUCUUCUCUCCUAGUAAUCGCGCGGCCUUGCCAGGGCGGUGCCGGCCCGGGAGGGCAGAGAUGCCUGGGCCCUGUCGGAUUAUGGAACGAGGGAACACGGACCAAUGUGGGUCCCUGUACGUCCAGGUUGUGUUUAGUCGCAUACCGGAUGGCAUAGUGCUGGAACGCGAGAAUUUGCUGCCGACGUCGCCCGCACCUGACCGUCUUAUCUUGCGGCAAAGUAGCAGCAUAUGCGAGACCGUAAUCUUAGACAGUCAGCCUAACGCAUUGAUUGUCUCGCAGCGGGUAAAAGGAGAUUCGCGACUCAACUGUCUCCUUGGCACCGGCGUACGGGGUAAGUGUGCGCAGCUUAAUUCGAUAUUGAAGGUAAUACACGUUGUGUUUAUAUUGUGGCAGUCCCCAGGUAAUACAGCCCGCCUGAGCACACGGUCAUCACGAUUGCUUGGAUCAAUAUCCCCUAACCAAUGUUACGGUACACAAAGUGCCUUCCAACUUGGGGACGGAACAUACAUUAGCAUCUUUCGAGCCCAUCUGGGAAACUCACACCAUGGCCCACUCCUAUGUAGGGGUCUUGGAGCUCAUACCGGGUUCAGUACUCCACCCUGCCGAUUACCUCUCUGUAGGAAAGGCGCGUCAAUCUCAUUCGGACAGAGCCCGUUCCCUAGGCACAAUAUACCUGUGCCUGCCCUUUUUAGGACCGUAACGUCAGGAUCGUAUAGACAGUGGCCGUCAACUUCAUUUAUUCUGUCCCCCACCACCAUACUGAGAACCACCAUACCUCGCAAGUUGCGCUCGAGCCAAAAACCAUGCACCCAGAGUAAAUGCUCGAUGAUAACUUAUCGUAAAGGUCUUUUUGACUACGCCCCGCGAACGCACGUACGGAUCCUUUGGGAUAAUUCUUUCAGGCCCUUACUGUUGCACCCGUACCAGUUGCAUCAGCAAACGCGGGACGGACGCUGGAUCCAGGUGUCUACAUCUACGUGGCUAGGGACAACUGAUGAUUGCGCAACCCCUAGUGUGAUUAGCAUACUGUUGCCAGUUUGGGUGGUAGUAGCUCCCCGCUUUGGCAUUCGAGUACUUCUCCUAAGCUUGAUGACUGCCGUGAUCUACCCACGCGAGCCUUCCCAUGAUCAGGAUUGGACCAGCAAAAAGCAAGCAUUUGUGCCUGAUCCAAAACAAACUAGAUUUCUGAAGCUGUGCCCGAAGAGCGUCCCGCCGUUAGAUAGGACUUAUCCGGAUUCAUCAGCUCAUCAGACCGUAUGUACCGUUACUCAUAGUGUUGAUUCGGCGCGACUAAUACCGUCCUUUGGCGAAAUCACGGAACUAUCCCUUUACCUCAAAGGCCACGCCCUGGUAGUGCAUAUCUGGAUGAAUCUUCCGAGCGAGCGUACCGGGGUUAGUUUACAUGUCAAGAAGGGGAGCACCAAAAUGUGCACACUCUGUAUGCCCGUGGGAGCGUCUUUGUCACCUCCUACUCGGGCUUGGGAAUGGCCAUUCAGUUUGUUGACUAUCUCUGGGCGCAUGAGUGGUAGAUCAAAAGUACUUAGGUUAGAGUUCGCUACUCGCGACACCGCAUCCUUGUCGGCCCCCAGCUCGGAGAGACGGUUGAUUACCCACUGUGUGGAUGCUGUACUAUUCGAUUGUCGCGCAGGGUUUCUGCCGUAUCAUCCCAGGGCCCAUCGGGGGGUGGUCACCGUCUGUUUUCUAGAUUGGAAACGACCGGACACUGCGGUUAGUACUGCCUUUCAGGCUGCCCGGGUUUCUAAACGGCCCAACUACCGACAAACUACGGAAACUCUAGAGUUUUCUUGCUUCUCUUGUUCGAGCUCGGCCUUUGUUUUAGAGGAUGUUCACCUCUACCGCCUCCAAGUUCUAACUCCGGCGAUAGCAAGUGCACGGCAUUUCAUUACUAAUAUUUUCACAGAACGAGCUCAAUCACCGUUAAGCCCCCUUGUCCCGAUGAUUCUCCUGGGGGAUUCGCAAGCAUUUAAUUGGCCUCAAUCACUUCCAUCUCCAAGAUCAAGAGUGAAAAAAGGCAUGGCUAAGGCGCCGCCGACGGGCCAGAUUCUGUUCUUGUACUGUAUAAAGGAGCGACGGAACGGGCCCGUUUGCCUAGAGCGCUCUAAGGUCCAGGUUCCUCGAUUUCUAUGCAGCGAGGGCAGCGUUGCCCGAAGCUUCUUUAAAAGCUGUGUUCCGCCUCGACACAAGACGCCGGUAGUGGGAUCACUUUACCUCCUUGCCGGCGUUAAGGUGUUUGAAUUCGCCCACAGUGGGCAGACUCUAUUCCACACGAUUUAUCCUUUUGUCCCGCCGUUGAUGAAAUUAGGUCCUCGUGGUACAGGCGAUAUGCUCCAAUCACAAGUGGAAGCCAGCGAUUGUUCUUCGCAACGCAGCGUUGACGUGGGUCCAUCGAAGCCGAGCCUGAAGCUACUUCUCAAAUUUACAGAAGGUAGCAAUUCACCGAUCGCUAUCCGUGCUCGUUAUAUAGGAAAUAGUUGGCUGUGUGUACCCGAAUCUACGCAGGAAAUUGUGAUUCUAGCAUCUACACGGAACGCAAAGUGCAGACGCUUGUCGUCAGAGACGGUAACCUCCACGCGACGUCGACCUAUGGCUGUAAUUGAUGGAACUUGCACAGUCGCCGCUGAACUAGAUUGCUCAUGGCUCUUCGACGCCUCUGAGUACAAGCACGGACCCUCUAGGUUUUUCCCCAGACCUAUGCGUCUCAUGCACUCUGUGCUAAAUUUACGGAAAGCAAGAAAGCAUGAUUAUGGGGCCAGCUCAAUGGGGCCGACCAGACUUAUCAAGAUUCAUUCGCAUUGCGAAAAUUCUUAUGUGAGCUGCCACGAUGACCGCGUUUCCCGAUCCUGGUUCAUCAAGCACGACUCGUUCUUUCUGCACUCUUGCUCUGGAGGUCUCCUUGCCAUGGGCUGCGUUCUCCCUAUGUCUUUGAGAGAAGGUGCGGGGCGUAUACAUCUUUUAGAGGUACCAGGGUUUACUCUUCUCUCUCCAGUCGUCUGGGGGGGGGAGAAGUAUACCCGCCACCGAAUUGGCCCGCUUGUGUACAGCGCAGUCCGGUCAAACGGGGGACUCCCUGGUUUUUGUUCUCUAAAGUCCGCCUACCUGCUGAAUGGCGUUAUCGAGGGCAUUUACAACGCACACCCUUGCUCACCUGUGCAGAUUGGUCGCGUCGGAACUGGAGGAUCAGUGGUCGGACAAAUUUGGGGCUUCUAUCAGCUUAGUCGGGCCGUUAUUGCUGCGUUAGAGUACCCUGCAUUACGGACACCUGACUCAUGCAAAAAAGUCAACGAAUGCGAAUUGACACCGCAGGGCAUGCAAUACGCAGGCUUCGUGCGGUCAGAGCACAAUGAGCGGGCAAUGGGAUCAACCGAUCCGCACGAUUUUCUCAUGAGCCAGGCUCUUCGCAGGACACUUGGAGUACAUGCAUGUUGUGAGCUGUACAACAGUCUAAGCGUUGGAGACGGCUCUAACCACUUUGACCCGAAGGCCCUCUUUCCGGUGACAUUCAGUGUGUGCGUUAUGGUCCGGGUAUUAUUUGAUAGGCGACCAAUAAAAACCGGAAGCACUAAACCUAUUGAUGGCAGUCCUUAUAGGCGGACCGCCUACCGCACUUUUGAGGACCGCCAGGUCUCCAAUGGGUCAAGCUUGGAGAUACUAACCCUUGCAACUCGCGACGUGCAGCCAUUUGCCCCUAAUACGGAUCCUCAUCAAGCAGGUAUGCUCAUGGGAAUUUGUACGCUUGAGAGCCGCUUCCAGCCAGCACACCUGAACACCCGAAUUUACUCUAUGGUAAGCGCCCGGUCUAAGCGGGCCUUAGGAACCACAUAUGCGUAUCUCAAUUAUAGGCUUUUAGUUAAAUGUUUCGACCACAAAUUCUUGGAUUGUUUGACGGUUUCCACCUCCAAGACCAUACUGGGUAAGAGGAUCGAAAAAAAAAGACGGGCUUGUAGCCGAAUCGCCAUACGACUCCAUCGACGGAGCAAUCGCGCCACGCACGAUCUACAGCUACGCAUUUCUGACUGGAACCAACCUUUGGCAGUCGUACGUUCUAUGCGUGGGUCUUCCCCUUGGAUGCAGAACCGCCACACAGUUCCUCCUGGGUCAAACAGGGAGGAUUUUUCCCCCUUAAAGCACUCUCGUCCCGGGGUAUCUUACGCCAAGAUUAACCUAGGUGAGGAGCUUUUAUCCCCCGGUUUUGCGGGCUCACCCCGCGAAGGCAAAAGCAGCUCCACGGUACUAGCACUCUCGGGUAGCGACGAACUUCCGAACAUAGGUCUGAUUGGACGUGAAAUGCGACAGGCCGGUUGCAUAGGGUUCCUCCGCUUUUGGAGUCUUGCGCUAGUGCACCUGGGAAGUGUUUUUAUGUCGAAUAUCGCUCCUAAAAUUGUUUCCUUAAACGGCUUGUGCGUUACUCCUCGCCUCGACCGGGUCUACGAACAACAACGUUAUGCUCCAAAGAUAUGUCUCAUCAGCGUUCGGACUAUAGACGUAGCAGACCGCUGGGAAGCCCUCAGGGCAUUCUCAACUGUUGAUGCUCACACCAACAAACCUGUGGCUCGGUACAUAGAGCUCCAGGCGGGUCAGCUGGCAGCCUCUGACUCGUUCGGUGGCAAACAUCAGCGGACGGUCCGUGUUAAGCCUGGCUAUCGUCAAAUCUCUCUUCUCCCGGGAAUCCGGUAUCUUUCGAGACGAUUUGCCGAAGUCUACUGGCCAAUAUUUUCGUCGUGGGUGAGUGGGUUGGCGACCCGAUCUACAUUAGUUCGGCGCGCUGACGAUUGGAGUAUAGUUCCAUUGGCGCGACGGGGCAAUUCUCGUUGGCCCCAAAGAACGGGACGCUCCUUGUUCAUCCAUAAACGUCCGCCCAUUACAGUAGCUCCGGUAGUCGACGGCUGUUUGGGAGUCAACAGUCGUAACUACGAUAAAGAGGUGCGUCUAGGCAAGGCUGUUGGUCCGGGCGCUGCACUUAACGUAUCUAUAGUUUUGGGUACGAAGAUGGGGGCCUGGUAUAGCUUUGUUAGAUCAAUAUUUAUUGCGCAGCUUGAAGUUAGACAUUAUAUGCACACGGGUAUCUUCUAUAACGUCUGGUUAAGGAACCCGCGCGGGUCAUACCACACCGAACCGCUACCUGCCUAUACCGUCCGUGAGACAAUGCUAAUGUUCCUUCCUAGGUGGCAUCUCCAUCUACGGUGGGCAGCCUAUCCGCGUUCGAAGUGGAUCCUCGGACGAUUCCGGAUCGUGCCGUCUUGCAGUGACAUAGAAAGGCUGGCCACGUACAGAAUGAUAACUUACGGUUAUUUUCGGUCCGUACGCGAGCCCUUGCGGCUUCCUGUCUACUUGCGAAUGAAUUGUAUGCAAUUGACUUGCGAACCCCGAUAUGGUAUUAUGAACGCAACUCAAUUAGUUCGUAGACGUCCGACUUACGGCUUUAGAGAGCUCAGCCAACACCUAUCCGGGAUGCUCUACUGUUGGCCGCCAAGUUCCUUUUGCCCAGGAACUGAACUAUCGAACGAAAAAAAAAAUCAUGACCGUCAUCCAUGUACCACUUAUCCCUCUUCUAUGGCAAGCACGAAGCUGGGCCUUCGCGUGUAUCCCCCGGCUAAUAUGUGUACUCAGCUCUUGAUUGCGCUGCGCGGUACUAGGUAUCCCGUGGUCGUUGGCGACAGACUGAGCAGGCGGCCCCUUUGGCUCUCACGCCAUCCGUGCAAGUGUAGGCACCUUCCAGAACAAGUUUCAAUCCGCGAAGGGUGUAGAGUCUCUAGACAGGAGACGUUUUUGGGCAGUAGUCCCUUGACCCACCAGGAGAUGUCAAUAAUGGCAGAACAAUGCUCGGCGAUCCCGAGGCAGGAAUCUCACAAAUUUCGUCACAUCAACGUAACCGUAUGUAACAAGUCGAACAAGACUUUCUCUCGCCCGAGGGUGUCGCAAAAAAUUCUGCAACCGAAAUGGCAGCACCUACGGUUGCUCCGGCCAGCAUUGGGUUGUAUGCCAUGGGUAUGUCGGGUAUCCGGUCUGGAACUUUGGUCGGAAUUCUUCUCAAUGGGCUUAGAUGAGCGCAACUUUAAGCACCUACUGUUCGCCCGCGCUACCACGGUGAAAAUGCUGUUCAAAGGCGAACGGUUCGCGCCCAGAUACUUCUUGCGAUCCGCCGGUUAUUCUUCUAACGGUAGAAGAGAGGAAACCCGUUACUUCUUCUCCUAUGCGCCGUUGAACCGACAGCUAUUAGAGUUGAAGGUGACAGUACUACGGAAUGGCCGCAUGUCGCUCUGCCUGAGUGUGAGACACGCAAGGGUAGAAAAGCGAUCGCAUAAUAAGGAAUUGCAAGUAAGUCUAGUGCGGUCCACGACUCUCCGUGUUACAAGCAAUCUUUGGAGAGCGGAGAUGAAGACUGGAUCUUAUGGAUUAUAUAAAAAUCAGCGGACCCUCUUGUACCUGACGCGUUCGCUUACACACAGUCAUCGGUGUUUCCCCUUGGGGUACGGGCUAGUGGUCAUUCUUCGCAACCCUAUUCCAUAUGCGUGUGAACUCCCCGCGUUGAAGGCCUGGCCCUCCGACUCUUAUCUUCGCUUGUUGUUACGUAAAAAACCUUACCUAAUCAAAAGGACUGAGCGAGGUACUCCCAUGACUUGGGCUCAGAUAGGGGUCCACCUAUGCUGUCCAGGGGUAGCCGAAGAUUAUCUACUCCUCCUCCUAUAUAUAUGGAAGGCUGCCAGAGCGAAGUUCAGUUACUACGACAAGUAUAAGUUAUGCAUCGCCCGCCAUUGUCUAUACUAUUGUUCCGCUCUAUUCGCCGUGGGGUACACUCAAAGACCCCUUAUCACCAGCCGCAUAGCUCGCGCAAAUAAGGUACCUCUUCUAUGGACAGAGCAACGUGCAGUUAUAACAUCGCGAUUGCAAGAUGUAUUAGGGAUUCCCCGUUGUGAGUUGCAUCGCAGCAUGCGCCUAUCCGCUACAGCUCAUGAUCACGUAAAACUGGUGGGCUCUAUUAUGGUAUUAGAGAGUCGAGACAAGCUGAAAUACAGCCGGGGUAGGUGGACCAGAAAUUAUAAUUCCGUUCAGCCUAGCAGCUGCAAAGGAAAUCCAAUUAUAGUAACCCCGGUAUUUCAGUCCGAGAAUUGGCGUGGUGUGCAUUCCUCGCAAUAG\"\n",
        "print(translate_rna(rna))"
      ],
      "metadata": {
        "id": "5Rzzfzij6q2P",
        "colab": {
          "base_uri": "https://localhost:8080/"
        },
        "outputId": "4596c7de-ca4f-446f-be5e-02c939aa5bc5"
      },
      "execution_count": 32,
      "outputs": [
        {
          "output_type": "stream",
          "name": "stdout",
          "text": [
            "MLSRPVSEGTPLSSEDPTSSAVFTLTSAKCSNSSRINHLVKDDRVPSTDCSDLGNTLVGRLKYRRGYRNNNFCSDPTGSGSWSVVDVCRARTPVPIGGSGERIRPGRCSYWELDAELKYCGNLTNEHITAGRGNSGRDGRRGRIPRAGGAVSPRNQVRALSNNTPGIGANPTRHGEQDHIPNGERLISEKRPHPNPPSHGILCGHNPSQQRSSALKVLPGCYPARRLVLPANRWVGSPHVNDFYTGTANRLKDKQQNSSQKARCFWFPTFFNAWPRKNIAYSRDRVSRINQYFANSGVAAYWRSATVIFLPRDFARREFVTTYPKASNDGANLEAKDSVLGCTNPKLSHLKQRGLALIFSPSNRAALPGRCRPGRAEMPGPCRIMERGNTDQCGSLYVQVVFSRIPDGIVLERENLLPTSPAPDRLILRQSSSICETVILDSQPNALIVSQRVKGDSRLNCLLGTGVRGKCAQLNSILKVIHVVFILWQSPGNTARLSTRSSRLLGSISPNQCYGTQSAFQLGDGTYISIFRAHLGNSHHGPLLCRGLGAHTGFSTPPCRLPLCRKGASISFGQSPFPRHNIPVPALFRTVTSGSYRQWPSTSFILSPTTILRTTIPRKLRSSQKPCTQSKCSMITYRKGLFDYAPRTHVRILWDNSFRPLLLHPYQLHQQTRDGRWIQVSTSTWLGTTDDCATPSVISILLPVWVVVAPRFGIRVLLLSLMTAVIYPREPSHDQDWTSKKQAFVPDPKQTRFLKLCPKSVPPLDRTYPDSSAHQTVCTVTHSVDSARLIPSFGEITELSLYLKGHALVVHIWMNLPSERTGVSLHVKKGSTKMCTLCMPVGASLSPPTRAWEWPFSLLTISGRMSGRSKVLRLEFATRDTASLSAPSSERRLITHCVDAVLFDCRAGFLPYHPRAHRGVVTVCFLDWKRPDTAVSTAFQAARVSKRPNYRQTTETLEFSCFSCSSSAFVLEDVHLYRLQVLTPAIASARHFITNIFTERAQSPLSPLVPMILLGDSQAFNWPQSLPSPRSRVKKGMAKAPPTGQILFLYCIKERRNGPVCLERSKVQVPRFLCSEGSVARSFFKSCVPPRHKTPVVGSLYLLAGVKVFEFAHSGQTLFHTIYPFVPPLMKLGPRGTGDMLQSQVEASDCSSQRSVDVGPSKPSLKLLLKFTEGSNSPIAIRARYIGNSWLCVPESTQEIVILASTRNAKCRRLSSETVTSTRRRPMAVIDGTCTVAAELDCSWLFDASEYKHGPSRFFPRPMRLMHSVLNLRKARKHDYGASSMGPTRLIKIHSHCENSYVSCHDDRVSRSWFIKHDSFFLHSCSGGLLAMGCVLPMSLREGAGRIHLLEVPGFTLLSPVVWGGEKYTRHRIGPLVYSAVRSNGGLPGFCSLKSAYLLNGVIEGIYNAHPCSPVQIGRVGTGGSVVGQIWGFYQLSRAVIAALEYPALRTPDSCKKVNECELTPQGMQYAGFVRSEHNERAMGSTDPHDFLMSQALRRTLGVHACCELYNSLSVGDGSNHFDPKALFPVTFSVCVMVRVLFDRRPIKTGSTKPIDGSPYRRTAYRTFEDRQVSNGSSLEILTLATRDVQPFAPNTDPHQAGMLMGICTLESRFQPAHLNTRIYSMVSARSKRALGTTYAYLNYRLLVKCFDHKFLDCLTVSTSKTILGKRIEKKRRACSRIAIRLHRRSNRATHDLQLRISDWNQPLAVVRSMRGSSPWMQNRHTVPPGSNREDFSPLKHSRPGVSYAKINLGEELLSPGFAGSPREGKSSSTVLALSGSDELPNIGLIGREMRQAGCIGFLRFWSLALVHLGSVFMSNIAPKIVSLNGLCVTPRLDRVYEQQRYAPKICLISVRTIDVADRWEALRAFSTVDAHTNKPVARYIELQAGQLAASDSFGGKHQRTVRVKPGYRQISLLPGIRYLSRRFAEVYWPIFSSWVSGLATRSTLVRRADDWSIVPLARRGNSRWPQRTGRSLFIHKRPPITVAPVVDGCLGVNSRNYDKEVRLGKAVGPGAALNVSIVLGTKMGAWYSFVRSIFIAQLEVRHYMHTGIFYNVWLRNPRGSYHTEPLPAYTVRETMLMFLPRWHLHLRWAAYPRSKWILGRFRIVPSCSDIERLATYRMITYGYFRSVREPLRLPVYLRMNCMQLTCEPRYGIMNATQLVRRRPTYGFRELSQHLSGMLYCWPPSSFCPGTELSNEKKNHDRHPCTTYPSSMASTKLGLRVYPPANMCTQLLIALRGTRYPVVVGDRLSRRPLWLSRHPCKCRHLPEQVSIREGCRVSRQETFLGSSPLTHQEMSIMAEQCSAIPRQESHKFRHINVTVCNKSNKTFSRPRVSQKILQPKWQHLRLLRPALGCMPWVCRVSGLELWSEFFSMGLDERNFKHLLFARATTVKMLFKGERFAPRYFLRSAGYSSNGRREETRYFFSYAPLNRQLLELKVTVLRNGRMSLCLSVRHARVEKRSHNKELQVSLVRSTTLRVTSNLWRAEMKTGSYGLYKNQRTLLYLTRSLTHSHRCFPLGYGLVVILRNPIPYACELPALKAWPSDSYLRLLLRKKPYLIKRTERGTPMTWAQIGVHLCCPGVAEDYLLLLLYIWKAARAKFSYYDKYKLCIARHCLYYCSALFAVGYTQRPLITSRIARANKVPLLWTEQRAVITSRLQDVLGIPRCELHRSMRLSATAHDHVKLVGSIMVLESRDKLKYSRGRWTRNYNSVQPSSCKGNPIIVTPVFQSENWRGVHSSQ\n"
          ]
        }
      ]
    },
    {
      "cell_type": "markdown",
      "source": [
        "####**<font color=crimson>TASK 21.3 Commit to GitHub**</font>"
      ],
      "metadata": {
        "id": "dvtR4N7L6sZ_"
      }
    },
    {
      "cell_type": "markdown",
      "source": [
        "#<font color=blue>**P22.**</font> SeqIO – a function to parse( ) sequence files"
      ],
      "metadata": {
        "id": "bDJqtRiX3fEG"
      }
    },
    {
      "cell_type": "markdown",
      "source": [
        "####**TASK BP 22.1** Read in the practice dataset from Rosalind #9 and print the id of each sequence in the file."
      ],
      "metadata": {
        "id": "VKyMhLjx7nIo"
      }
    },
    {
      "cell_type": "code",
      "source": [
        "from Bio.SeqIO import parse\n",
        "\n",
        "for seq_record in parse(\"practice_9.txt\", \"fasta\"):\n",
        "    print (seq_record.id)\n",
        "    print (seq_record.seq)\n",
        "    print (len(seq_record.seq))\n",
        "    print (seq_record)"
      ],
      "metadata": {
        "colab": {
          "base_uri": "https://localhost:8080/",
          "height": 356
        },
        "id": "xUi3JEoh7yJ6",
        "outputId": "84262773-7ddd-4ad5-fd4f-035b87ed2ef0"
      },
      "execution_count": 33,
      "outputs": [
        {
          "output_type": "error",
          "ename": "FileNotFoundError",
          "evalue": "[Errno 2] No such file or directory: 'practice_9.txt'",
          "traceback": [
            "\u001b[0;31m---------------------------------------------------------------------------\u001b[0m",
            "\u001b[0;31mFileNotFoundError\u001b[0m                         Traceback (most recent call last)",
            "\u001b[0;32m/tmp/ipython-input-1493440793.py\u001b[0m in \u001b[0;36m<cell line: 0>\u001b[0;34m()\u001b[0m\n\u001b[1;32m      1\u001b[0m \u001b[0;32mfrom\u001b[0m \u001b[0mBio\u001b[0m\u001b[0;34m.\u001b[0m\u001b[0mSeqIO\u001b[0m \u001b[0;32mimport\u001b[0m \u001b[0mparse\u001b[0m\u001b[0;34m\u001b[0m\u001b[0;34m\u001b[0m\u001b[0m\n\u001b[1;32m      2\u001b[0m \u001b[0;34m\u001b[0m\u001b[0m\n\u001b[0;32m----> 3\u001b[0;31m \u001b[0;32mfor\u001b[0m \u001b[0mseq_record\u001b[0m \u001b[0;32min\u001b[0m \u001b[0mparse\u001b[0m\u001b[0;34m(\u001b[0m\u001b[0;34m\"practice_9.txt\"\u001b[0m\u001b[0;34m,\u001b[0m \u001b[0;34m\"fasta\"\u001b[0m\u001b[0;34m)\u001b[0m\u001b[0;34m:\u001b[0m\u001b[0;34m\u001b[0m\u001b[0;34m\u001b[0m\u001b[0m\n\u001b[0m\u001b[1;32m      4\u001b[0m     \u001b[0mprint\u001b[0m \u001b[0;34m(\u001b[0m\u001b[0mseq_record\u001b[0m\u001b[0;34m.\u001b[0m\u001b[0mid\u001b[0m\u001b[0;34m)\u001b[0m\u001b[0;34m\u001b[0m\u001b[0;34m\u001b[0m\u001b[0m\n\u001b[1;32m      5\u001b[0m     \u001b[0mprint\u001b[0m \u001b[0;34m(\u001b[0m\u001b[0mseq_record\u001b[0m\u001b[0;34m.\u001b[0m\u001b[0mseq\u001b[0m\u001b[0;34m)\u001b[0m\u001b[0;34m\u001b[0m\u001b[0;34m\u001b[0m\u001b[0m\n",
            "\u001b[0;32m/usr/local/lib/python3.12/dist-packages/Bio/SeqIO/__init__.py\u001b[0m in \u001b[0;36mparse\u001b[0;34m(handle, format, alphabet)\u001b[0m\n\u001b[1;32m    624\u001b[0m     \u001b[0miterator_generator\u001b[0m \u001b[0;34m=\u001b[0m \u001b[0m_FormatToIterator\u001b[0m\u001b[0;34m.\u001b[0m\u001b[0mget\u001b[0m\u001b[0;34m(\u001b[0m\u001b[0mformat\u001b[0m\u001b[0;34m)\u001b[0m\u001b[0;34m\u001b[0m\u001b[0;34m\u001b[0m\u001b[0m\n\u001b[1;32m    625\u001b[0m     \u001b[0;32mif\u001b[0m \u001b[0miterator_generator\u001b[0m\u001b[0;34m:\u001b[0m\u001b[0;34m\u001b[0m\u001b[0;34m\u001b[0m\u001b[0m\n\u001b[0;32m--> 626\u001b[0;31m         \u001b[0;32mreturn\u001b[0m \u001b[0miterator_generator\u001b[0m\u001b[0;34m(\u001b[0m\u001b[0mhandle\u001b[0m\u001b[0;34m)\u001b[0m\u001b[0;34m\u001b[0m\u001b[0;34m\u001b[0m\u001b[0m\n\u001b[0m\u001b[1;32m    627\u001b[0m     \u001b[0;32mif\u001b[0m \u001b[0mformat\u001b[0m \u001b[0;32min\u001b[0m \u001b[0mAlignIO\u001b[0m\u001b[0;34m.\u001b[0m\u001b[0m_FormatToIterator\u001b[0m\u001b[0;34m:\u001b[0m\u001b[0;34m\u001b[0m\u001b[0;34m\u001b[0m\u001b[0m\n\u001b[1;32m    628\u001b[0m         \u001b[0;31m# Use Bio.AlignIO to read in the alignments\u001b[0m\u001b[0;34m\u001b[0m\u001b[0;34m\u001b[0m\u001b[0m\n",
            "\u001b[0;32m/usr/local/lib/python3.12/dist-packages/Bio/SeqIO/FastaIO.py\u001b[0m in \u001b[0;36m__init__\u001b[0;34m(self, source, alphabet)\u001b[0m\n\u001b[1;32m    194\u001b[0m         \u001b[0;32mif\u001b[0m \u001b[0malphabet\u001b[0m \u001b[0;32mis\u001b[0m \u001b[0;32mnot\u001b[0m \u001b[0;32mNone\u001b[0m\u001b[0;34m:\u001b[0m\u001b[0;34m\u001b[0m\u001b[0;34m\u001b[0m\u001b[0m\n\u001b[1;32m    195\u001b[0m             \u001b[0;32mraise\u001b[0m \u001b[0mValueError\u001b[0m\u001b[0;34m(\u001b[0m\u001b[0;34m\"The alphabet argument is no longer supported\"\u001b[0m\u001b[0;34m)\u001b[0m\u001b[0;34m\u001b[0m\u001b[0;34m\u001b[0m\u001b[0m\n\u001b[0;32m--> 196\u001b[0;31m         \u001b[0msuper\u001b[0m\u001b[0;34m(\u001b[0m\u001b[0;34m)\u001b[0m\u001b[0;34m.\u001b[0m\u001b[0m__init__\u001b[0m\u001b[0;34m(\u001b[0m\u001b[0msource\u001b[0m\u001b[0;34m,\u001b[0m \u001b[0mfmt\u001b[0m\u001b[0;34m=\u001b[0m\u001b[0;34m\"Fasta\"\u001b[0m\u001b[0;34m)\u001b[0m\u001b[0;34m\u001b[0m\u001b[0;34m\u001b[0m\u001b[0m\n\u001b[0m\u001b[1;32m    197\u001b[0m         \u001b[0;32mtry\u001b[0m\u001b[0;34m:\u001b[0m\u001b[0;34m\u001b[0m\u001b[0;34m\u001b[0m\u001b[0m\n\u001b[1;32m    198\u001b[0m             \u001b[0mline\u001b[0m \u001b[0;34m=\u001b[0m \u001b[0mnext\u001b[0m\u001b[0;34m(\u001b[0m\u001b[0mself\u001b[0m\u001b[0;34m.\u001b[0m\u001b[0mstream\u001b[0m\u001b[0;34m)\u001b[0m\u001b[0;34m\u001b[0m\u001b[0;34m\u001b[0m\u001b[0m\n",
            "\u001b[0;32m/usr/local/lib/python3.12/dist-packages/Bio/SeqIO/Interfaces.py\u001b[0m in \u001b[0;36m__init__\u001b[0;34m(self, source, alphabet, fmt)\u001b[0m\n\u001b[1;32m     79\u001b[0m         \u001b[0;32mif\u001b[0m \u001b[0misinstance\u001b[0m\u001b[0;34m(\u001b[0m\u001b[0msource\u001b[0m\u001b[0;34m,\u001b[0m \u001b[0m_PathLikeTypes\u001b[0m\u001b[0;34m)\u001b[0m\u001b[0;34m:\u001b[0m\u001b[0;34m\u001b[0m\u001b[0;34m\u001b[0m\u001b[0m\n\u001b[1;32m     80\u001b[0m             \u001b[0mmode\u001b[0m \u001b[0;34m=\u001b[0m \u001b[0mmodes\u001b[0m\u001b[0;34m[\u001b[0m\u001b[0;36m0\u001b[0m\u001b[0;34m]\u001b[0m\u001b[0;34m\u001b[0m\u001b[0;34m\u001b[0m\u001b[0m\n\u001b[0;32m---> 81\u001b[0;31m             \u001b[0mself\u001b[0m\u001b[0;34m.\u001b[0m\u001b[0mstream\u001b[0m \u001b[0;34m=\u001b[0m \u001b[0mopen\u001b[0m\u001b[0;34m(\u001b[0m\u001b[0msource\u001b[0m\u001b[0;34m,\u001b[0m \u001b[0;34m\"r\"\u001b[0m \u001b[0;34m+\u001b[0m \u001b[0mmode\u001b[0m\u001b[0;34m)\u001b[0m\u001b[0;34m\u001b[0m\u001b[0;34m\u001b[0m\u001b[0m\n\u001b[0m\u001b[1;32m     82\u001b[0m         \u001b[0;32melse\u001b[0m\u001b[0;34m:\u001b[0m\u001b[0;34m\u001b[0m\u001b[0;34m\u001b[0m\u001b[0m\n\u001b[1;32m     83\u001b[0m             \u001b[0mvalue\u001b[0m \u001b[0;34m=\u001b[0m \u001b[0msource\u001b[0m\u001b[0;34m.\u001b[0m\u001b[0mread\u001b[0m\u001b[0;34m(\u001b[0m\u001b[0;36m0\u001b[0m\u001b[0;34m)\u001b[0m\u001b[0;34m\u001b[0m\u001b[0;34m\u001b[0m\u001b[0m\n",
            "\u001b[0;31mFileNotFoundError\u001b[0m: [Errno 2] No such file or directory: 'practice_9.txt'"
          ]
        }
      ]
    },
    {
      "cell_type": "markdown",
      "source": [
        "#<font color=blue>**P23.**</font> SeqUtils.gc_fraction( ) – a function to compute GC content"
      ],
      "metadata": {
        "id": "SAjUYBpe3pwi"
      }
    },
    {
      "cell_type": "markdown",
      "source": [
        "####**TASK P23.1** Modify the script from TASK P22.1 so that it prints the GC content for each sequence in the file"
      ],
      "metadata": {
        "id": "kEjUu8HfHniC"
      }
    },
    {
      "cell_type": "markdown",
      "source": [
        "####**TASK P23.2** <font color=orange> **Complete Rosalind #9  Computing GC Content**</font>"
      ],
      "metadata": {
        "id": "nJeXcQR7HwOf"
      }
    },
    {
      "cell_type": "code",
      "source": [
        "\n",
        "fasta_data = \"\"\">Rosalind_5308\n",
        "AGGCCTGGTATCACCCCGGGTAACGAAATAGCTACGGGAGAGCTTCCAAGACTGGCGGTT\n",
        "CAGAAAAGAGGGAAATACCGCTAGGTCGTTTGTTGCGACATCCCAGCAGTCATAGCACGA\n",
        "TGCGCTGCTCTCAGCGTTGGAAGCTCGTACACTAGTCTGGACAGTTCGCATATAGTGTTT\n",
        "ATAAACGTCGATTCTGAGTAGCTGATCGTTGCCTGAATCAAGCTGGATCTACACCTGTCA\n",
        "CGATCTAGGTACGAAATTCAGACGATAGATATTGTTCTAGGTTTTATACCAGCTAGGATT\n",
        "CAGTTCGTCCTAATTTTGGACTATCCGAAAATTCCCAACGGGCTCCTATAAAGTCAACAA\n",
        "CAGGATTGCAGCAAACGAGTGGACCACCCAGGCGGAGATCTACTCTGACGAAGTTGGAGT\n",
        "ATCTGAATTTCACCTTGCCCTTAAACCGAGCTAGGATGTATATAATAAGAAAGTAGAGTA\n",
        "ATGATGAGGCCGCCTCGGTGCCGCAATATGGCCAACGCGTAGACGCACCATGTGAGTATT\n",
        "GTTACCTGGTGTGATAGCTCAGGTTTGGTTCCTGCGGTCCTCTGAAGCTAACCGGAAATC\n",
        "AGGAATCACGGTGGATGGCAGAGTAAAGGCTGTAACATTGTACCGATCACACGCACAGGC\n",
        "GAAACCGCCGCAGCACGATGTGACTTAATCCCGCGCTTCCAAACGAGGTAGGCCGTACGA\n",
        "CGGAAACGTTAGTAAGTCAGCTGTACCAAATCAGTAACGTGGTCTTAAGCAGCATAAGAT\n",
        "TAACGATTATTACTCTACCAAATCCCTCAAGGATGAGCATTTCAAAGTCTCTCGATCTAG\n",
        "GGACATGAGTAGACGTAT\n",
        ">Rosalind_7486\n",
        "AACGAGAAGCGCGTTGCGCCGCAGTAGCCGGTAAATGTTCTACAGGAGGTCGCATAGGCG\n",
        "CCCGCTGCCGGCACATCCGCTGTTAGGCCTCACGTTCATCTTAGGCCTCAGATACGCCGA\n",
        "CAATTCGAGTTAAACCCAGGCTTTAGAACAGTGTAGAGCGGCGACTGGAGGGAGGTGGTT\n",
        "TCGGGTAAACGTGTTATAGGTCAGCATAGTTGTCCTCTCTGTCAAGACCACGATGCTTAG\n",
        "CTACTTAGCCTACTGTTCTCCAAACGGGAATTAATTTACGGCTAAGACGCCGCAAGGAGT\n",
        "GCCATGCTGCATAGGCGTTTTCCATTCTGGACGGCCATCTGCAGCCAAGGAGAAGCCCAA\n",
        "TAAAACTTGCATGTCCCGGCTCGTTTGCCAGAAGGTAAACCTGGCTCCGACGAACCCCAT\n",
        "CACACAATCTCCGCTGACATTGATGTTCGAATACTACTACGGCCACGGCCGCCCTGAGGT\n",
        "TTAAGACTCTTGATTTCCTGTAGTTAGCTGCAATTACTTTGCTCAAATCCTCTCGCTTGC\n",
        "TTTTCAACGTGAAGCGTACCCCACCCATGCGGTGGAGCCGCGCGCTCAGGATTGCCTTCG\n",
        "GTCCAGGCCGCTATGGAGCTGAACCGGCACTCCAATTCTCCATGATTACCGTTTTAGAGA\n",
        "ACGAGGCAGCCATTACTGTTAATGCGTCGCAATGAAACTAAAAGTTCGCTCCGCCATGGA\n",
        "TCTTAGCAAGGAGACGCCCGCGGGCTATCTGTTCCGACTAGTGCATCCTACTCGAACACA\n",
        "CAGCCTCGACGAAGGAAGCCTCCCACGTAACAGGATAAATGCGACACGCGGGGCTCGCCC\n",
        "CCTTTACTGAGTTCTGTGGAATATAGGTCCTCAGTGTAACGTCGGAACGTTAATCCACCG\n",
        "GGTCCACGGATCTAATGAAGGATCTGAATGGTCCGTCAAGC\n",
        ">Rosalind_2980\n",
        "CAAACTGCTGAGACCTCGCGCCGCGTATATCATACCCCCCCCTACGTACCCGGTGGTTCC\n",
        "CGACTTCACTTACATTTCGGGTTCACATCTCTACTCGTGGTGATTGGGCCGCATTTGTCT\n",
        "GCGAGCTCTTTATGTCGATGTCTAGCCAGTGCGATCTGTAAGATGTGACGTCTCCAATAC\n",
        "CCATCTTATAGTGTTACTAGTAGGATCTCCTGTGCCAATAGTAGCCTTAAATGAAACATC\n",
        "TTGTGTACGACCTAGTAATAACAACGAACCTCGCTGATACGGTCTAGTGACCCTACTGGA\n",
        "CCGCGTCTTCGTGTTCCTCCTGCCCTTTCCGGAGCGGAATTAGGGAGTGTTTAGTATCCA\n",
        "TCATCGATCATGTGCGATGGTAATCGGGAGGAGATGTAGCTCACCCGACCCTGGTATAAT\n",
        "GCAGAAACAACATTCTGGCGCAGGCACCGGGCAAATACGACCAGAGTTAATGAGGGAGTA\n",
        "ATACGGGCTGCGGATCCGAGCGAGAGTTTTTAATAACTGATCTCTTCCACGCCGAGCAGG\n",
        "CGTACGTGTAATTTAGCGTAGCTAGTCATGTCGGGTGTTTGTGGAATTCCCACCTACTCT\n",
        "TTATAGAGTCAGCGGGCTCATTGTTGTCAGATCAATCCATCTATCCACTGCCTGCTCATA\n",
        "TAGGGTCTTCGGTACTCATCTGGATGCATATACGGATTAATAGGAATTGTATGGGGCTTT\n",
        "AGCAACTAGCAGATGTCCGCTAAGAGCGTGTCAACACAGGCTGACCCGACGGCAAGATTG\n",
        "TCAGGTTAGTGGTACGCAGACGGCCATTACAGATCATAAAATTGTAATAGTGTTTTTTAA\n",
        "CGACATGGTTCCTTAAACGGTAAGCGTGATATGTGTCGGCTCACCGCTGAAGCTGACGTA\n",
        "TCCGGTGGACGCCTAGTGCAGCCAGGGGCCTACACAGAAGTCCGTATATTAGGAAACCGC\n",
        "GCGTC\n",
        ">Rosalind_4484\n",
        "ACTTATAGCATGGACTGTGGATGGACGGGGATGCACAAGCCGAATGTGCATGCTAGGCCA\n",
        "GGCGTGGTGTCGCTACCTGTAGGAATCCCTGTGATATATGACTCTTATCACAATGCATAT\n",
        "GGTTTGCATATCTACAACAAAGGGTTAATGCGGCGTTGACTGGCACATATAGAGAAAGGT\n",
        "ATAATGGGTGATTGTGCGGTTGGTTCGGGACTATCTCGGGTTGGTGTCACGTCCTTGGAG\n",
        "TACGTTAGTGTAGCATTGACGTAGATGCGAGTAATCCACGGGGCAATTCCACTGTCTTCT\n",
        "GACACTTGGCCAGAGGGACGGATCCATGGGAATGCACCGCTCAACGAACAATGGAGAAAT\n",
        "GTTCACACCACCTCGAGGTGCCCAAGGACAGGACGATGTCCACCTGTGCATAGAGCCCAT\n",
        "CGCGCGTCCTCACATTCGTGAGGGGATGACGTAAGCGCACTTGGGATACGCTTTCGCGAC\n",
        "GGGTCAAGTTTTAGCCGGTTTGCGCCCTCGTCGATCGGATTATTTCATCTACTTGACGCA\n",
        "TCCGGGCACAAGTCTTGCTCCTTCACGTTACTGAGCGCAATGAGGCCCGTATGTTGAGAA\n",
        "CTCACCAGACAAATTGAGTAAATTGATTTTCTTCTAGACAGCCTATTCGGGTCACATGAA\n",
        "GTCCCCATTGAGAGGAGAAGGGAAAAAACTCACTAGACCGGTCATATCATTGCTTTCCAG\n",
        "TGCTTTACAAAGCCCTGAGGGCATACGTAGTAGGGAGGGTCTGTGTCAGGCATCTATAGG\n",
        "TGCGCATAAGGGAGGAAATTTCTTGCTCTTTATTGGTTGTTTATCCGTGAACGCTAACGC\n",
        "CGTCGATTCCGATAGTGAGCAGATTCCACTCTAAAGAGGAAAGAATTGGTAAGTCTCGAA\n",
        "GAGTGAGAAGATGTCAGGTTGGCTCATCTATAAC\n",
        ">Rosalind_5321\n",
        "GTGAGGCGTGTAGGGGACAAGTTCAGCTTTTGATAATACCGCTCGCGTGGAGAACGTTCT\n",
        "GGCCGTTGTTCGGGGCTGATTCAAGCTGGTGATATCTTCCCGAATATATTCCTGGACGCG\n",
        "GTCGCAGGACCGGTTAACTACCGACACATAAAGGCCCGAACTACGTAAAATGGCGGTCGA\n",
        "CGGTAACAACGTCGCAAGCATATAACAAGGCGTTTGAGAATAGCGCCTCGTCCCGTGCGT\n",
        "GACGTATGTGTTGAGTCTTGATTGAGTGTCGCGTTGATCTAGCACGTTGTGAAAGGATGT\n",
        "ATTCCAATTAGAATCCACCCTTGTTAGCTCCTGCACTGGCCCCAGAGGGTCTGGTTGATG\n",
        "ACCCCGCTTGATCCCAAACGTAGAAAACTTAGCTGAAAGAATTGGTGAGCAGTCTAAGCA\n",
        "GACATATTGAGTCGGCAATCGGTGAGTCCGCATTTAAGCATTACTGGAAGTAACCCCCTC\n",
        "CCGTGTGGGGATATTATTAGGGTTCTGGAAATGTTCTCGAGGTCAGAAGGTAATACGAGT\n",
        "CGATGCCTACAGGCGAGTTCCCTCCATTGGTATACGTACAGGGCAGTTATTGAGCGATTC\n",
        "CACTGACGCCCTGCTGCAATATTCATCGAAGTGGGGCTTCTAAAGGCCAACATTACATGC\n",
        "GGTTCGATACGATTAGCAAAAAAGTCCCGACTCACGGTGCCATAACGCGATGTGCAAATT\n",
        "TTGCAGTGTTAACGGCGTTCAGGTTGTCCGCTTATTGAGTCCCCACGGGGGCGGCTCAGT\n",
        "TACGTAGTGCGCCTGGCATATTTGTCTAGGA\n",
        ">Rosalind_1825\n",
        "GGTCCTGATGGATTTTAGCGCATTTCCGTGTGAGTGATCTCTGTGTCCCGAGAACCGCGT\n",
        "CTGAGCTAAGCCACTGTTTGTGGATCCGAGTAGTCAAACTGGTTTGGAACTATCCGAGCC\n",
        "AACGGCTACCTAGAGCACCAGCTTATAAGGATGTTTCTAATATTTAAATGTATCTGTTTC\n",
        "CTTACATGGCGCGCGCAGTAACATTAGATCGGCGGCCCTAGGTCCTAGCAGTTGCCGCTC\n",
        "GTCGTCCGCACTAGTAACACGATCTTGCAGATCCACTATTTGCAAACGGACGTACGTATG\n",
        "GTAAACTCTGAGGCGTGCCAGGGGGGGACGAGGACGCACGATATATTGGACGCTTATATA\n",
        "CTTGGCGGGAGACTAGTGTGGTTGAGATCTAACGAATTAGCGCAGCGCGGCCAGTATTCT\n",
        "TGTATAAAGCGGTTACATACGTAATGAGCATGCTGTTAAGAAGGAAATTTACGTGGCCGT\n",
        "TGCTAGGGCTACTCACCCTCTGCGAACTCTAGGTTAAATATAAGTGGGTTCTACTCCAGT\n",
        "TGATAAGTGGCGATTTAGATCACTACCTAGACCTTCCTGCTGCGTTTGAGCATTCCGGGG\n",
        "AGCCGAGCGGTTGGGCTGATTGGATCAAGGCCTTCTTGTGCTTGACGGATCATTTCTGCT\n",
        "GTTTTGTCCCACACCCTACGTCTTTTCTAGACCCGAGGTCACGATCGCGATCTGCCGATT\n",
        "CGCGTCTGACCCACGCGTGTAAAGTCCTGCGGATAAAGCGTAACTCGAGTAAACATCCAG\n",
        "GCTACTCGAAGCCATTAAATAGGTTCTAATCTATGCACGGTAACGAATAGTCAACGATCC\n",
        "GAGCCTATGCACAAGTAGACAGACCAGCGCATTAGCTTCGCCGATGCTTCTGGATCATAT\n",
        "CGAGCGCACTTTCGTTTGAGCCTTAATTAGACTACAG\n",
        ">Rosalind_4068\n",
        "TAGGCAGGGAGTATCGAGGTCTAGTTGATACAGTCCTTAAGGCTAGTACCCAGGGTTCGT\n",
        "TCGCCGACTTATCCATTGGAACGGTTACATCGAGTCGCGGGTATTGTGCATGTTACTCCA\n",
        "TACGCCCGCTTATTGTGGCTTGTGGACCGGATTACCGATGGGTCCTTGTACTATTACCTA\n",
        "CACTTTTCTTAGGTACATGCTGAACGAGAAACCACAAGAGGTGTTACCACGTGTGAAGCG\n",
        "AATATCCATCTGGCGGCACAGCGATTCCTTTTAGAGTCCTTGGAGCGAGTGGTGTCCTCG\n",
        "AAGTCGTTGTAATAACCTCGCATACTCGACAAAAAGAATGCCAGTGATTTTAATCACCGT\n",
        "AACTACAGACCTATCTACGTCGAGGGTTAACGACCCCGAGACGGTGTTCCAGAAGGTTAC\n",
        "TCGGTAACCAGGTTGAGATACTTACAACATGTGCCACACTCTCCACAGATCAACATAGCT\n",
        "CAATTCATGAGTAGAGGAATGTTTCCGTTTTCGGGAATGTGAGGCCGAAGGCGTGGGCCT\n",
        "GGCATAACTGGGCAAGTTGCACCTCCATCTATAAGATCGTTTCGGGCAGCCGCTAGGCTA\n",
        "ACTGAATAGGCCTTAGAACCGTAGCGTCGGTCTTCGACACCGATTCAGGGAATCCGCACT\n",
        "CATGCAGTCACGCCCATGCCGGTTCGCACCAAGTAAGAATTATGGGAATTCAGCTAGTGA\n",
        "CTAAATGGGCCCCCTAGTCGTCAACACACAGCTAACATATTTTTCACGAGGCTACGAGCC\n",
        "AACACGCAGCTTGCAACTATGGACAGGTCGGGTGATGAGCAATCTCATTGTCCGGTCCGA\n",
        "AACTGAAACCCTGAGCGCGTTTTAGTACGTTTACATCCGATCATAATTTAAAAGATTGGT\n",
        "CAGATTAGGGTGGTTGGTAGCCCATCATCGACGTTAAAATAATAATATAACGGTTATAGG\n",
        "ATCTATTCATCAAAAGT\n",
        ">Rosalind_7828\n",
        "CAATCAGAGGTAATCCTCTGCTTTTAGTACGAATTTCCGCAGTCCAACTCTACGTGCTGT\n",
        "TGAAATCCTCGTCATCGCAAGGTGGGCCGTCTTGGCGACCTCTGGGTGTCAGCGCAGATC\n",
        "GTGCGAGCGGCGTCGGGGATGGGGGACGATATTACGGCCCTTTTCGTAAAACCAGTTCGG\n",
        "GAAATCATGTGCGGTGGGACCGTAAAGGCGTGAGTATCGATTAATGATCTGACCCCAGCC\n",
        "GGTTTTCAGCGCGATTCCCTTGGGAGTTGGAACGATGGAGGTCTAGTTACCAAGGCACGA\n",
        "CACAGCTGCCATGGCGTTGTGGAACGTCAGCGAGATTCAGTAACTCCGGTGCACCGGGGA\n",
        "ATCCGTGTCAATTGTTAGTTGCATGTACACTACCCTAGGCAATTATTCTACTGCTTTGAA\n",
        "CCGGTATCAGGTTCCGTGATCTAATAGACACACCTTCAGAAGAACTAGCCCCATTACACG\n",
        "CCTGTCGAGAAGGCGATGGTAGAATGGTGGGATCGGACCCCGCAGGTTTTTCTTTTTAGG\n",
        "ACTCTCGGGGTGTTCGAAACAGAATTGTCTAGGTGACCGGTGCCTTTGAAATTGTGATGA\n",
        "TCTAACGACTTGCTTAAACGTTTCCCATCACTATATTACGGCCAAGTGCGATTGCAAAGA\n",
        "AGCCCACCATAGATGCGTCTTCCACTTGACCTAATCGCACCCGCACTTCTGATGCACTGT\n",
        "CGTGTGAAAGTGCATCCCTTGAATGGGCATTGGGTGCCTTCCTGCTCTAACCGTTCGCAT\n",
        "TCGGAGTCTCGGGCCCATAACAGCGACCTGTCTTATCCTGCCAGCTACCTCACGGTTTGT\n",
        "CCGTCTCACTTAATCCTACCCGAGACCCAAGTGTAGCGCCGCCTCACGGGAACGGACTTG\n",
        "TGAGGATACGTTACATATAGGGACTGTGTATTTCAACCTATTCACTGC\n",
        ">Rosalind_5468\n",
        "AGTGACAGCCCGAACAGAATGGATGCACCAGCCCATACTGTATATTTCAGTGGTCTGGAG\n",
        "ACCCCCGGTACTGCACGTGACGGGATTCACGGTGTAATGCCCCGCTAGAGTCGTTTCATA\n",
        "TGTGCTTCTAGCTAAAAATAATGACTATTGGAATCAATAAACAGATCGCCTCTTCCAAAG\n",
        "GAAGTTGCACACCTGTCAGAACGGAAATACAGGCTCCGCCTTCGCTGAAGGGTGTCGACA\n",
        "CATTGAATAGCTACAGTCTCGCGATGAATGCGTGTGAGGCCCGGTCGGTCCAATTTTGTG\n",
        "TAGTTATGCGGTCAGTAGGCCTACGCACTCTGGTGCCTTGTCTAACGAGCTCGGCCGATC\n",
        "TACGAACACTGTGACAGACCTTCTTCTCACGTTTTTTGGGTATCCGAATCGGGTTCTTCC\n",
        "ACACGGGAGTCGCGGCTACTTGTCGGGGGCGATGGAGGACAGTATCGCCTATCAGGTGCA\n",
        "AGGCGTGTGGCTGGCACGAAGGCGCCACTGCGGGCGAGCCCATCGTCCTTGTCCGCAACT\n",
        "ACCAGTCTAACTTGTGTGTGATCCTGGCAATTTCAATGTGTCCCAGGTGTTTTTAAGACA\n",
        "AGTGCATCTCTTATCCGGCGGTACAGTCTATGCCGGGCAACCTGTGCGAATAAGCTCTAG\n",
        "CCAATTAGTCTCGGGCCTCCCTAAGCCTCCATGCCGGGTCATGATTGTCTACCCTGCCGA\n",
        "CATCGGATTCGGCTTCCCAGAATCACATCGATGTCAAGACAAGCTTCTACACCTCCACCA\n",
        "TTTCATTATGTACTCAGCTTGCCAACGCGTGATACGAACCCGCCAACATCAGTTCCCCGC\n",
        "TCCGCGTC\n",
        "\n",
        "\"\"\"\n",
        "\n",
        "\n",
        "def parse_fasta(data):\n",
        "    label, seq_parts = None, []\n",
        "    for line in data.strip().splitlines():\n",
        "        line = line.strip()\n",
        "        if line.startswith(\">\"):\n",
        "            if label is not None:\n",
        "                yield label, \"\".join(seq_parts)\n",
        "            label, seq_parts = line[1:], []\n",
        "        else:\n",
        "            seq_parts.append(line)\n",
        "    if label is not None:\n",
        "        yield label, \"\".join(seq_parts)\n",
        "\n",
        "def gc_content(s):\n",
        "    return (s.count(\"G\") + s.count(\"C\")) / len(s) * 100 if s else 0.0\n",
        "\n",
        "\n",
        "max_id, max_gc = None, -1.0\n",
        "for label, seq in parse_fasta(fasta_data):\n",
        "    pct = gc_content(seq)\n",
        "    if pct > max_gc:\n",
        "        max_id, max_gc = label, pct\n",
        "\n",
        "print(max_id)\n",
        "print(f\"{max_gc:.6f}\")"
      ],
      "metadata": {
        "colab": {
          "base_uri": "https://localhost:8080/"
        },
        "id": "hPzsQ6sJSFLI",
        "outputId": "2bba580f-bcd7-4fe8-c359-435ec290cb97"
      },
      "execution_count": 34,
      "outputs": [
        {
          "output_type": "stream",
          "name": "stdout",
          "text": [
            "Rosalind_7486\n",
            "53.028693\n"
          ]
        }
      ]
    },
    {
      "cell_type": "markdown",
      "source": [
        "####**<font color=crimson>TASK 23.3 Commit to GitHub**</font>"
      ],
      "metadata": {
        "id": "gavUUL39INzP"
      }
    },
    {
      "cell_type": "markdown",
      "source": [],
      "metadata": {
        "id": "Zf_OZq9R0dnq"
      }
    }
  ]
}